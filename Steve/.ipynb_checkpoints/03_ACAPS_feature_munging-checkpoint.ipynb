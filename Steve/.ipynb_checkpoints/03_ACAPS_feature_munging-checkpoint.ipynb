{
 "cells": [
  {
   "cell_type": "code",
   "execution_count": 1,
   "metadata": {},
   "outputs": [],
   "source": [
    "# Load packages\n",
    "import sys\n",
    "import numpy as np\n",
    "import pandas as pd\n",
    "# import geopandas as gpd\n",
    "import matplotlib as mpl\n",
    "%matplotlib inline\n",
    "import matplotlib.pyplot as plt\n",
    "import sklearn\n",
    "import xgboost as xgb\n",
    "import datetime\n",
    "import random\n",
    "import time"
   ]
  },
  {
   "cell_type": "markdown",
   "metadata": {},
   "source": [
    "Needed `pip install xlrd`"
   ]
  },
  {
   "cell_type": "code",
   "execution_count": 2,
   "metadata": {},
   "outputs": [],
   "source": [
    "path = '../data/'\n",
    "data_dict = pd.read_excel(path + '20200317_acaps_covid-19_goverment_measures_dataset_0.xlsx', sheet_name=1)\n",
    "df = pd.read_excel(path + '20200317_acaps_covid-19_goverment_measures_dataset_0.xlsx', sheet_name=2)"
   ]
  },
  {
   "cell_type": "code",
   "execution_count": 3,
   "metadata": {},
   "outputs": [
    {
     "data": {
      "text/html": [
       "<div>\n",
       "<style scoped>\n",
       "    .dataframe tbody tr th:only-of-type {\n",
       "        vertical-align: middle;\n",
       "    }\n",
       "\n",
       "    .dataframe tbody tr th {\n",
       "        vertical-align: top;\n",
       "    }\n",
       "\n",
       "    .dataframe thead th {\n",
       "        text-align: right;\n",
       "    }\n",
       "</style>\n",
       "<table border=\"1\" class=\"dataframe\">\n",
       "  <thead>\n",
       "    <tr style=\"text-align: right;\">\n",
       "      <th></th>\n",
       "      <th>Column</th>\n",
       "      <th>Variable Name</th>\n",
       "      <th>Label</th>\n",
       "      <th>Format</th>\n",
       "      <th>Codes</th>\n",
       "      <th>Missing Values</th>\n",
       "      <th>Comments</th>\n",
       "    </tr>\n",
       "  </thead>\n",
       "  <tbody>\n",
       "    <tr>\n",
       "      <th>0</th>\n",
       "      <td>A</td>\n",
       "      <td>ID</td>\n",
       "      <td>ID</td>\n",
       "      <td>Numeric</td>\n",
       "      <td>none</td>\n",
       "      <td>Not allowed</td>\n",
       "      <td>Progressive numbers of entries</td>\n",
       "    </tr>\n",
       "    <tr>\n",
       "      <th>1</th>\n",
       "      <td>B</td>\n",
       "      <td>COUNTRY</td>\n",
       "      <td>COUNTRY</td>\n",
       "      <td>Text</td>\n",
       "      <td>none</td>\n",
       "      <td>Not allowed</td>\n",
       "      <td>Manual</td>\n",
       "    </tr>\n",
       "    <tr>\n",
       "      <th>2</th>\n",
       "      <td>C</td>\n",
       "      <td>ISO</td>\n",
       "      <td>ISO</td>\n",
       "      <td>Text</td>\n",
       "      <td>iso3 code</td>\n",
       "      <td>Not allowed</td>\n",
       "      <td>Automated VLOOKUP with iso code</td>\n",
       "    </tr>\n",
       "    <tr>\n",
       "      <th>3</th>\n",
       "      <td>D</td>\n",
       "      <td>ADMIN_LEVEL</td>\n",
       "      <td>ADMIN_LEVEL</td>\n",
       "      <td>Text</td>\n",
       "      <td>none</td>\n",
       "      <td>Blank</td>\n",
       "      <td>if necessary</td>\n",
       "    </tr>\n",
       "    <tr>\n",
       "      <th>4</th>\n",
       "      <td>E</td>\n",
       "      <td>PCODE</td>\n",
       "      <td>PCODE</td>\n",
       "      <td>Text</td>\n",
       "      <td>none</td>\n",
       "      <td>Blank</td>\n",
       "      <td>if necessary</td>\n",
       "    </tr>\n",
       "    <tr>\n",
       "      <th>5</th>\n",
       "      <td>F</td>\n",
       "      <td>CATEGORY</td>\n",
       "      <td>CATEGORY</td>\n",
       "      <td>Text</td>\n",
       "      <td>none</td>\n",
       "      <td>Not allowed</td>\n",
       "      <td>Dropdown</td>\n",
       "    </tr>\n",
       "    <tr>\n",
       "      <th>6</th>\n",
       "      <td>G</td>\n",
       "      <td>MEASURE_TYPE</td>\n",
       "      <td>MEASURE_TYPE</td>\n",
       "      <td>Text</td>\n",
       "      <td>none</td>\n",
       "      <td>Not allowed</td>\n",
       "      <td>Dropdown</td>\n",
       "    </tr>\n",
       "    <tr>\n",
       "      <th>7</th>\n",
       "      <td>H</td>\n",
       "      <td>TARGETED_POP_GROUP</td>\n",
       "      <td>TARGETED_POP_GROUP</td>\n",
       "      <td>Text</td>\n",
       "      <td>none</td>\n",
       "      <td>Not allowed</td>\n",
       "      <td>Dropdown</td>\n",
       "    </tr>\n",
       "    <tr>\n",
       "      <th>8</th>\n",
       "      <td>I</td>\n",
       "      <td>COMMENTS</td>\n",
       "      <td>COMMENTS</td>\n",
       "      <td>Text</td>\n",
       "      <td>none</td>\n",
       "      <td>Blank</td>\n",
       "      <td>if necessary</td>\n",
       "    </tr>\n",
       "    <tr>\n",
       "      <th>9</th>\n",
       "      <td>J</td>\n",
       "      <td>DATE_IMPLEMENTED</td>\n",
       "      <td>DATE_IMPLEMENTED</td>\n",
       "      <td>Date (DD/MM/YYYY)</td>\n",
       "      <td>none</td>\n",
       "      <td>Blank</td>\n",
       "      <td>Manual</td>\n",
       "    </tr>\n",
       "    <tr>\n",
       "      <th>10</th>\n",
       "      <td>K</td>\n",
       "      <td>SOURCE</td>\n",
       "      <td>SOURCE</td>\n",
       "      <td>Text</td>\n",
       "      <td>none</td>\n",
       "      <td>Not allowed</td>\n",
       "      <td>Manual</td>\n",
       "    </tr>\n",
       "    <tr>\n",
       "      <th>11</th>\n",
       "      <td>L</td>\n",
       "      <td>SOURCE_TYPE</td>\n",
       "      <td>SOURCE_TYPE</td>\n",
       "      <td>Text</td>\n",
       "      <td>none</td>\n",
       "      <td>Not allowed</td>\n",
       "      <td>Manual</td>\n",
       "    </tr>\n",
       "    <tr>\n",
       "      <th>12</th>\n",
       "      <td>M</td>\n",
       "      <td>LINK</td>\n",
       "      <td>LINK</td>\n",
       "      <td>Text</td>\n",
       "      <td>none</td>\n",
       "      <td>Not allowed</td>\n",
       "      <td>Manual</td>\n",
       "    </tr>\n",
       "    <tr>\n",
       "      <th>13</th>\n",
       "      <td>N</td>\n",
       "      <td>ENTRY_DATE</td>\n",
       "      <td>ENTRY_DATE</td>\n",
       "      <td>Date (DD/MM/YYYY)</td>\n",
       "      <td>none</td>\n",
       "      <td>Not allowed</td>\n",
       "      <td>Manual</td>\n",
       "    </tr>\n",
       "    <tr>\n",
       "      <th>14</th>\n",
       "      <td>O</td>\n",
       "      <td>ALTERNATIVE SOURCE</td>\n",
       "      <td>ALTERNATIVE SOURCE</td>\n",
       "      <td>Text</td>\n",
       "      <td>none</td>\n",
       "      <td>Blank</td>\n",
       "      <td>NaN</td>\n",
       "    </tr>\n",
       "  </tbody>\n",
       "</table>\n",
       "</div>"
      ],
      "text/plain": [
       "   Column       Variable Name               Label             Format  \\\n",
       "0       A                  ID                  ID            Numeric   \n",
       "1       B             COUNTRY             COUNTRY               Text   \n",
       "2       C                 ISO                 ISO               Text   \n",
       "3       D         ADMIN_LEVEL         ADMIN_LEVEL               Text   \n",
       "4       E               PCODE               PCODE               Text   \n",
       "5       F            CATEGORY            CATEGORY               Text   \n",
       "6       G        MEASURE_TYPE        MEASURE_TYPE               Text   \n",
       "7       H  TARGETED_POP_GROUP  TARGETED_POP_GROUP               Text   \n",
       "8       I            COMMENTS            COMMENTS               Text   \n",
       "9       J    DATE_IMPLEMENTED    DATE_IMPLEMENTED  Date (DD/MM/YYYY)   \n",
       "10      K              SOURCE              SOURCE               Text   \n",
       "11      L         SOURCE_TYPE         SOURCE_TYPE               Text   \n",
       "12      M                LINK                LINK               Text   \n",
       "13      N          ENTRY_DATE          ENTRY_DATE  Date (DD/MM/YYYY)   \n",
       "14      O  ALTERNATIVE SOURCE  ALTERNATIVE SOURCE               Text   \n",
       "\n",
       "        Codes Missing Values                         Comments  \n",
       "0        none    Not allowed   Progressive numbers of entries  \n",
       "1        none    Not allowed                           Manual  \n",
       "2   iso3 code    Not allowed  Automated VLOOKUP with iso code  \n",
       "3        none          Blank                     if necessary  \n",
       "4        none          Blank                     if necessary  \n",
       "5        none    Not allowed                         Dropdown  \n",
       "6        none    Not allowed                         Dropdown  \n",
       "7        none    Not allowed                         Dropdown  \n",
       "8        none          Blank                     if necessary  \n",
       "9        none          Blank                           Manual  \n",
       "10       none    Not allowed                           Manual  \n",
       "11       none    Not allowed                           Manual  \n",
       "12       none    Not allowed                           Manual  \n",
       "13       none    Not allowed                           Manual  \n",
       "14       none          Blank                              NaN  "
      ]
     },
     "execution_count": 3,
     "metadata": {},
     "output_type": "execute_result"
    }
   ],
   "source": [
    "data_dict"
   ]
  },
  {
   "cell_type": "code",
   "execution_count": 4,
   "metadata": {},
   "outputs": [
    {
     "name": "stdout",
     "output_type": "stream",
     "text": [
      "<class 'pandas.core.frame.DataFrame'>\n",
      "RangeIndex: 815 entries, 0 to 814\n",
      "Data columns (total 16 columns):\n",
      " #   Column              Non-Null Count  Dtype         \n",
      "---  ------              --------------  -----         \n",
      " 0   ID                  815 non-null    int64         \n",
      " 1   COUNTRY             815 non-null    object        \n",
      " 2   ISO                 815 non-null    object        \n",
      " 3   ADMIN_LEVEL_NAME    24 non-null     object        \n",
      " 4   PCODE               0 non-null      float64       \n",
      " 5   REGION              815 non-null    object        \n",
      " 6   CATEGORY            815 non-null    object        \n",
      " 7   MEASURE             815 non-null    object        \n",
      " 8   TARGETED_POP_GROUP  777 non-null    object        \n",
      " 9   COMMENTS            694 non-null    object        \n",
      " 10  DATE_IMPLEMENTED    701 non-null    datetime64[ns]\n",
      " 11  SOURCE              797 non-null    object        \n",
      " 12  SOURCE_TYPE         793 non-null    object        \n",
      " 13  LINK                792 non-null    object        \n",
      " 14  ENTRY_DATE          814 non-null    datetime64[ns]\n",
      " 15  Alternative source  10 non-null     object        \n",
      "dtypes: datetime64[ns](2), float64(1), int64(1), object(12)\n",
      "memory usage: 102.0+ KB\n"
     ]
    }
   ],
   "source": [
    "df.info()"
   ]
  },
  {
   "cell_type": "code",
   "execution_count": 5,
   "metadata": {},
   "outputs": [
    {
     "data": {
      "text/html": [
       "<div>\n",
       "<style scoped>\n",
       "    .dataframe tbody tr th:only-of-type {\n",
       "        vertical-align: middle;\n",
       "    }\n",
       "\n",
       "    .dataframe tbody tr th {\n",
       "        vertical-align: top;\n",
       "    }\n",
       "\n",
       "    .dataframe thead th {\n",
       "        text-align: right;\n",
       "    }\n",
       "</style>\n",
       "<table border=\"1\" class=\"dataframe\">\n",
       "  <thead>\n",
       "    <tr style=\"text-align: right;\">\n",
       "      <th></th>\n",
       "      <th>ID</th>\n",
       "      <th>COUNTRY</th>\n",
       "      <th>ISO</th>\n",
       "      <th>ADMIN_LEVEL_NAME</th>\n",
       "      <th>PCODE</th>\n",
       "      <th>REGION</th>\n",
       "      <th>CATEGORY</th>\n",
       "      <th>MEASURE</th>\n",
       "      <th>TARGETED_POP_GROUP</th>\n",
       "      <th>COMMENTS</th>\n",
       "      <th>DATE_IMPLEMENTED</th>\n",
       "      <th>SOURCE</th>\n",
       "      <th>SOURCE_TYPE</th>\n",
       "      <th>LINK</th>\n",
       "      <th>ENTRY_DATE</th>\n",
       "      <th>Alternative source</th>\n",
       "    </tr>\n",
       "  </thead>\n",
       "  <tbody>\n",
       "    <tr>\n",
       "      <th>0</th>\n",
       "      <td>1</td>\n",
       "      <td>Afghanistan</td>\n",
       "      <td>AFG</td>\n",
       "      <td>NaN</td>\n",
       "      <td>NaN</td>\n",
       "      <td>Asia</td>\n",
       "      <td>Public health measures</td>\n",
       "      <td>Health screenings in airports and border cross...</td>\n",
       "      <td>No</td>\n",
       "      <td>NaN</td>\n",
       "      <td>2020-02-12</td>\n",
       "      <td>Ministry of Health</td>\n",
       "      <td>Government</td>\n",
       "      <td>https://moph.gov.af/en/moph-held-emergency-mee...</td>\n",
       "      <td>2020-03-14</td>\n",
       "      <td>NaN</td>\n",
       "    </tr>\n",
       "    <tr>\n",
       "      <th>1</th>\n",
       "      <td>2</td>\n",
       "      <td>Afghanistan</td>\n",
       "      <td>AFG</td>\n",
       "      <td>Kabul</td>\n",
       "      <td>NaN</td>\n",
       "      <td>Asia</td>\n",
       "      <td>Public health measures</td>\n",
       "      <td>Introduction of quarantine policies</td>\n",
       "      <td>No</td>\n",
       "      <td>NaN</td>\n",
       "      <td>2020-02-12</td>\n",
       "      <td>Ministry of Health</td>\n",
       "      <td>Government</td>\n",
       "      <td>https://moph.gov.af/en/moph-held-emergency-mee...</td>\n",
       "      <td>2020-03-14</td>\n",
       "      <td>NaN</td>\n",
       "    </tr>\n",
       "    <tr>\n",
       "      <th>2</th>\n",
       "      <td>3</td>\n",
       "      <td>Afghanistan</td>\n",
       "      <td>AFG</td>\n",
       "      <td>NaN</td>\n",
       "      <td>NaN</td>\n",
       "      <td>Asia</td>\n",
       "      <td>Public health measures</td>\n",
       "      <td>Awareness campaigns</td>\n",
       "      <td>No</td>\n",
       "      <td>NaN</td>\n",
       "      <td>2020-02-12</td>\n",
       "      <td>Ministry of Health</td>\n",
       "      <td>Government</td>\n",
       "      <td>https://moph.gov.af/en/moph-held-emergency-mee...</td>\n",
       "      <td>2020-03-14</td>\n",
       "      <td>NaN</td>\n",
       "    </tr>\n",
       "    <tr>\n",
       "      <th>3</th>\n",
       "      <td>4</td>\n",
       "      <td>Afghanistan</td>\n",
       "      <td>AFG</td>\n",
       "      <td>NaN</td>\n",
       "      <td>NaN</td>\n",
       "      <td>Asia</td>\n",
       "      <td>Social and economic measures</td>\n",
       "      <td>Emergency administrative structures activated ...</td>\n",
       "      <td>No</td>\n",
       "      <td>NaN</td>\n",
       "      <td>2020-02-12</td>\n",
       "      <td>Ministry of Health</td>\n",
       "      <td>Government</td>\n",
       "      <td>https://moph.gov.af/en/moph-held-emergency-mee...</td>\n",
       "      <td>2020-03-14</td>\n",
       "      <td>NaN</td>\n",
       "    </tr>\n",
       "    <tr>\n",
       "      <th>4</th>\n",
       "      <td>5</td>\n",
       "      <td>Afghanistan</td>\n",
       "      <td>AFG</td>\n",
       "      <td>NaN</td>\n",
       "      <td>NaN</td>\n",
       "      <td>Asia</td>\n",
       "      <td>Social distancing</td>\n",
       "      <td>Limit public gatherings</td>\n",
       "      <td>No</td>\n",
       "      <td>Nevruz festival cancelled</td>\n",
       "      <td>2020-03-12</td>\n",
       "      <td>AA</td>\n",
       "      <td>Media</td>\n",
       "      <td>https://www.aa.com.tr/en/asia-pacific/coronavi...</td>\n",
       "      <td>2020-03-14</td>\n",
       "      <td>NaN</td>\n",
       "    </tr>\n",
       "  </tbody>\n",
       "</table>\n",
       "</div>"
      ],
      "text/plain": [
       "   ID      COUNTRY  ISO ADMIN_LEVEL_NAME  PCODE REGION  \\\n",
       "0   1  Afghanistan  AFG              NaN    NaN   Asia   \n",
       "1   2  Afghanistan  AFG            Kabul    NaN   Asia   \n",
       "2   3  Afghanistan  AFG              NaN    NaN   Asia   \n",
       "3   4  Afghanistan  AFG              NaN    NaN   Asia   \n",
       "4   5  Afghanistan  AFG              NaN    NaN   Asia   \n",
       "\n",
       "                       CATEGORY  \\\n",
       "0        Public health measures   \n",
       "1        Public health measures   \n",
       "2        Public health measures   \n",
       "3  Social and economic measures   \n",
       "4             Social distancing   \n",
       "\n",
       "                                             MEASURE TARGETED_POP_GROUP  \\\n",
       "0  Health screenings in airports and border cross...                 No   \n",
       "1                Introduction of quarantine policies                 No   \n",
       "2                                Awareness campaigns                 No   \n",
       "3  Emergency administrative structures activated ...                 No   \n",
       "4                            Limit public gatherings                 No   \n",
       "\n",
       "                    COMMENTS DATE_IMPLEMENTED              SOURCE SOURCE_TYPE  \\\n",
       "0                        NaN       2020-02-12  Ministry of Health  Government   \n",
       "1                        NaN       2020-02-12  Ministry of Health  Government   \n",
       "2                        NaN       2020-02-12  Ministry of Health  Government   \n",
       "3                        NaN       2020-02-12  Ministry of Health  Government   \n",
       "4  Nevruz festival cancelled       2020-03-12                  AA       Media   \n",
       "\n",
       "                                                LINK ENTRY_DATE  \\\n",
       "0  https://moph.gov.af/en/moph-held-emergency-mee... 2020-03-14   \n",
       "1  https://moph.gov.af/en/moph-held-emergency-mee... 2020-03-14   \n",
       "2  https://moph.gov.af/en/moph-held-emergency-mee... 2020-03-14   \n",
       "3  https://moph.gov.af/en/moph-held-emergency-mee... 2020-03-14   \n",
       "4  https://www.aa.com.tr/en/asia-pacific/coronavi... 2020-03-14   \n",
       "\n",
       "  Alternative source  \n",
       "0                NaN  \n",
       "1                NaN  \n",
       "2                NaN  \n",
       "3                NaN  \n",
       "4                NaN  "
      ]
     },
     "execution_count": 5,
     "metadata": {},
     "output_type": "execute_result"
    }
   ],
   "source": [
    "df.head()"
   ]
  },
  {
   "cell_type": "code",
   "execution_count": 6,
   "metadata": {},
   "outputs": [
    {
     "data": {
      "text/plain": [
       "array(['Afghanistan', 'Bhutan', 'Antigua and Barbuda', 'Bolivia',\n",
       "       'Bosnia and Herzegovina', 'Argentina', 'Albania', 'Nepal',\n",
       "       'Algeria', 'Bangladesh', 'Angola', 'Chile', 'Uruguay', 'Paraguay',\n",
       "       'Peru', 'Azerbaijan', 'Brazil', 'Portugal', 'Ecuador', 'Colombia',\n",
       "       'Armenia', 'Bahrain', 'Venezuela', 'Guyana', 'Suriname', 'Belgium',\n",
       "       'Panama', 'Australia', 'Costa Rica', 'Nicaragua', 'Honduras',\n",
       "       'Belize', 'El Salvador', 'Bahamas', 'Guatemala', 'Benin', 'Mexico',\n",
       "       'Brunei Darussalam', 'Bulgaria', 'Papua New Guinea',\n",
       "       'Solomon Islands', 'Cameroon', 'Tuvalu', 'Vanuatu', 'Fiji',\n",
       "       \"Côte d'Ivoire\", 'Tonga', 'Nauru', 'Kiribati', 'Indonesia',\n",
       "       'Senegal', 'Philippines', 'Chad', 'Malaysia', 'Burkina Faso',\n",
       "       'China', 'Congo DR', 'Barbados', 'Canada', 'Thailand',\n",
       "       'New Zealand', 'Congo', 'United Kingdom', 'Comoros', 'Madagascar',\n",
       "       'Cyprus', 'Dominica', 'United States of America', 'Mali',\n",
       "       'Grenada', 'Saint Lucia', 'Saint Vincent and the Grenadines',\n",
       "       'Italy', 'Samoa', 'Central African Republic', 'Ethiopia', 'India',\n",
       "       'Seychelles', 'Kenya', 'Morocco', 'Saudi Arabia', 'Somalia',\n",
       "       'Uzbekistan', 'Turkmenistan', 'Togo', 'Timor-Leste', 'Tajikistan',\n",
       "       'Singapore', 'Slovakia', 'Tanzania', 'Greece', 'Slovenia', 'kenya',\n",
       "       'South Sudan', 'Palau', 'Palestine', 'Poland', 'Eswatini', 'Qatar',\n",
       "       'Trinidad and Tobago', 'Dominican Republic', 'Equatorial Guinea',\n",
       "       'Syria', 'Korea DPR', 'Sudan', 'Oman', 'Germany', 'Belarus',\n",
       "       'Marshall Islands', 'Ukraine', 'Yemen', 'Burundi', 'Austria',\n",
       "       'Netherlands', 'Lesotho', 'Latvia', 'Croatia', 'Lithuania',\n",
       "       'Estonia', 'Turkey', 'Czech Republic', 'Finland', 'Denmark',\n",
       "       'Sweden', 'Djibouti', 'Lao PDR', 'Norway', 'Kyrgyzstan',\n",
       "       'Mauritania', 'Cabo Verde', 'Eritrea', 'Namibia', 'Mozambique',\n",
       "       'Cambodia', 'Micronesia', 'Iceland', 'Moldova Republic Of',\n",
       "       'Switzerland', 'Luxembourg', 'Hungary', 'Liechtenstein', 'Ireland',\n",
       "       'Romania', 'United Arab Emirates', 'Georgia', 'Iran', 'Kazakhstan',\n",
       "       'Viet Nam', 'Jamaica', 'Montenegro', 'South Africa', 'Mongolia',\n",
       "       'Myanmar', 'Malta', 'Uganda', 'Zambia', 'Israel', 'Gambia',\n",
       "       'Zimbabwe', 'North Macedonia Republic Of', 'Mauritius',\n",
       "       'Sri Lanka', 'Japan', 'Russian Federation', 'Tunisia', 'Maldives',\n",
       "       'Niger', 'Kuwait', 'Guinea-Bissau', 'Liberia', 'Nigeria',\n",
       "       'Pakistan', 'Malawi', 'Serbia', 'Sierra Leone', 'Rwanda', 'Haiti',\n",
       "       'Jordan', 'Ghana', 'Korea Republic of', 'Spain', 'Lebanon',\n",
       "       'Egypt', 'Iraq', 'Libya', 'France'], dtype=object)"
      ]
     },
     "execution_count": 6,
     "metadata": {},
     "output_type": "execute_result"
    }
   ],
   "source": [
    "all_countries = df['COUNTRY'].unique()\n",
    "all_countries"
   ]
  },
  {
   "cell_type": "code",
   "execution_count": 7,
   "metadata": {},
   "outputs": [
    {
     "data": {
      "text/plain": [
       "(186,)"
      ]
     },
     "execution_count": 7,
     "metadata": {},
     "output_type": "execute_result"
    }
   ],
   "source": [
    "df['COUNTRY'].unique().shape"
   ]
  },
  {
   "cell_type": "code",
   "execution_count": 56,
   "metadata": {},
   "outputs": [
    {
     "data": {
      "text/plain": [
       "array(['Public health measures', 'Social and economic measures',\n",
       "       'Social distancing', 'Movement restrictions', 'Human rights'],\n",
       "      dtype=object)"
      ]
     },
     "execution_count": 56,
     "metadata": {},
     "output_type": "execute_result"
    }
   ],
   "source": [
    "categories = df['CATEGORY'].unique()\n",
    "categories"
   ]
  },
  {
   "cell_type": "code",
   "execution_count": 57,
   "metadata": {},
   "outputs": [
    {
     "data": {
      "text/plain": [
       "array(['Health screenings in airports and border crossings',\n",
       "       'Introduction of quarantine policies', 'Awareness campaigns',\n",
       "       'Emergency administrative structures activated or established',\n",
       "       'Limit public gatherings', 'Border closure\\xa0',\n",
       "       'Schools closure\\xa0', 'Travel restrictions',\n",
       "       'Strengthening the public health system', 'Flights suspension',\n",
       "       'Limit product imports/exports', 'Border checks\\xa0',\n",
       "       'Visa restrictions', 'Checkpoints', 'Economic measures',\n",
       "       'State of emergency declared',\n",
       "       'Additional health/documents requirements upon arrival',\n",
       "       'Public services closure\\xa0',\n",
       "       'Changes in prison-related policies', 'General recommendations',\n",
       "       'General lockdown',\n",
       "       'Psychological assistance and medical social work',\n",
       "       'Obligatory medical tests not related to COVID-19',\n",
       "       'Screening of all Citizens', 'Electronic surveilance',\n",
       "       'Lockdown of refugee/idp camps'], dtype=object)"
      ]
     },
     "execution_count": 57,
     "metadata": {},
     "output_type": "execute_result"
    }
   ],
   "source": [
    "measures = df['MEASURE'].unique()\n",
    "measures"
   ]
  },
  {
   "cell_type": "code",
   "execution_count": 10,
   "metadata": {},
   "outputs": [
    {
     "data": {
      "text/plain": [
       "(26,)"
      ]
     },
     "execution_count": 10,
     "metadata": {},
     "output_type": "execute_result"
    }
   ],
   "source": [
    "df['MEASURE'].unique().shape"
   ]
  },
  {
   "cell_type": "code",
   "execution_count": 11,
   "metadata": {},
   "outputs": [],
   "source": [
    "countries_of_int = ['China', 'Italy', 'United States of America', 'Korea Republic of']"
   ]
  },
  {
   "cell_type": "code",
   "execution_count": 12,
   "metadata": {},
   "outputs": [
    {
     "name": "stdout",
     "output_type": "stream",
     "text": [
      "====================================\n",
      "China\n",
      "17 measures enacted\n",
      "earliest 2020-01-20 00:00:00\n",
      "most recent 2020-03-19 00:00:00\n",
      "    DATE_IMPLEMENTED                                            MEASURE  \\\n",
      "177              NaT                                   Schools closure    \n",
      "178              NaT                           Public services closure    \n",
      "179              NaT                Introduction of quarantine policies   \n",
      "180       2020-01-29                            Limit public gatherings   \n",
      "181       2020-03-14                                  Economic measures   \n",
      "182              NaT                                Awareness campaigns   \n",
      "183              NaT  Health screenings in airports and border cross...   \n",
      "184              NaT  Emergency administrative structures activated ...   \n",
      "185       2020-01-27                                Travel restrictions   \n",
      "186              NaT             Strengthening the public health system   \n",
      "187       2020-01-20                        State of emergency declared   \n",
      "188              NaT                                   General lockdown   \n",
      "189              NaT  Additional health/documents requirements upon ...   \n",
      "200       2020-03-13   Psychological assistance and medical social work   \n",
      "772       2020-03-19                Introduction of quarantine policies   \n",
      "778              NaT  Health screenings in airports and border cross...   \n",
      "779              NaT                Introduction of quarantine policies   \n",
      "\n",
      "                         CATEGORY  \n",
      "177             Social distancing  \n",
      "178             Social distancing  \n",
      "179        Public health measures  \n",
      "180             Social distancing  \n",
      "181  Social and economic measures  \n",
      "182        Public health measures  \n",
      "183        Public health measures  \n",
      "184  Social and economic measures  \n",
      "185         Movement restrictions  \n",
      "186        Public health measures  \n",
      "187  Social and economic measures  \n",
      "188  Social and economic measures  \n",
      "189         Movement restrictions  \n",
      "200        Public health measures  \n",
      "772        Public health measures  \n",
      "778        Public health measures  \n",
      "779        Public health measures  \n",
      "\n",
      "\n",
      "====================================\n",
      "Italy\n",
      "8 measures enacted\n",
      "earliest 2020-01-31 00:00:00\n",
      "most recent 2020-03-17 00:00:00\n",
      "    DATE_IMPLEMENTED                                 MEASURE  \\\n",
      "240       2020-03-11     Introduction of quarantine policies   \n",
      "241       2020-01-31             State of emergency declared   \n",
      "242              NaT                      Flights suspension   \n",
      "243       2020-03-08                        General lockdown   \n",
      "422       2020-02-21                        Schools closure    \n",
      "762       2020-03-17                       Economic measures   \n",
      "764       2020-03-17  Strengthening the public health system   \n",
      "766       2020-03-17      Changes in prison-related policies   \n",
      "\n",
      "                         CATEGORY  \n",
      "240        Public health measures  \n",
      "241  Social and economic measures  \n",
      "242         Movement restrictions  \n",
      "243  Social and economic measures  \n",
      "422             Social distancing  \n",
      "762  Social and economic measures  \n",
      "764        Public health measures  \n",
      "766             Social distancing  \n",
      "\n",
      "\n",
      "====================================\n",
      "United States of America\n",
      "6 measures enacted\n",
      "earliest 2020-01-31 00:00:00\n",
      "most recent 2020-03-16 00:00:00\n",
      "    DATE_IMPLEMENTED                                            MEASURE  \\\n",
      "228       2020-03-14                                Travel restrictions   \n",
      "229       2020-03-14  Health screenings in airports and border cross...   \n",
      "230       2020-03-13                        State of emergency declared   \n",
      "231       2020-03-15                                  Economic measures   \n",
      "780       2020-03-16                            General recommendations   \n",
      "781       2020-01-31                        State of emergency declared   \n",
      "\n",
      "                         CATEGORY  \n",
      "228         Movement restrictions  \n",
      "229        Public health measures  \n",
      "230  Social and economic measures  \n",
      "231  Social and economic measures  \n",
      "780        Public health measures  \n",
      "781  Social and economic measures  \n",
      "\n",
      "\n",
      "====================================\n",
      "Korea Republic of\n",
      "5 measures enacted\n",
      "earliest 2020-03-10 00:00:00\n",
      "most recent 2020-03-16 00:00:00\n",
      "    DATE_IMPLEMENTED                                            MEASURE  \\\n",
      "700       2020-03-10  Health screenings in airports and border cross...   \n",
      "701       2020-03-16                            Limit public gatherings   \n",
      "702       2020-03-10                                Travel restrictions   \n",
      "703       2020-03-10                                  Visa restrictions   \n",
      "704       2020-03-10                Introduction of quarantine policies   \n",
      "\n",
      "                   CATEGORY  \n",
      "700  Public health measures  \n",
      "701       Social distancing  \n",
      "702   Movement restrictions  \n",
      "703   Movement restrictions  \n",
      "704  Public health measures  \n",
      "\n",
      "\n"
     ]
    }
   ],
   "source": [
    "for country in countries_of_int:\n",
    "    print('====================================')\n",
    "    print(country)\n",
    "    country_mask = df['COUNTRY'] == country\n",
    "    print(df[country_mask]['ID'].count() , 'measures enacted')\n",
    "    print('earliest' , str(df[country_mask]['DATE_IMPLEMENTED'].min()))\n",
    "    print('most recent' , str(df[country_mask]['DATE_IMPLEMENTED'].max()))\n",
    "    print(df[country_mask][['DATE_IMPLEMENTED', 'MEASURE', 'CATEGORY']])\n",
    "    print('\\n')"
   ]
  },
  {
   "cell_type": "markdown",
   "metadata": {},
   "source": [
    "Interesting, S. Korea has relatively few measure enacted for a country that has flattened the curve. However, in terms of number of tests performed, they are leading the pack. In terms of testing per capita, they are quite high as well:\n",
    "\n",
    "https://ourworldindata.org/covid-testing#current-covid-19-test-coverage-estimates\n",
    "\n",
    "So maybe number of tests performed should count as some kind of \"countermeasure\". The problem being there is no time element to this. This may require some assumptions. Will need to have a look at the data.\n",
    "\n",
    "Perhaps, when the number of per capita tests is low, an increase leads to an increase in the number of confirmed cases. But when it is high, it leads to a decrease, as more perfect knowledge allows infected people to be quarantined and slow the spread."
   ]
  },
  {
   "cell_type": "markdown",
   "metadata": {},
   "source": [
    "What is the distribution of number of measures taken per country?"
   ]
  },
  {
   "cell_type": "code",
   "execution_count": 17,
   "metadata": {},
   "outputs": [
    {
     "data": {
      "text/plain": [
       "COUNTRY\n",
       "Saudi Arabia                25\n",
       "China                       17\n",
       "Lebanon                     13\n",
       "Iraq                        12\n",
       "Germany                     12\n",
       "Portugal                    12\n",
       "Afghanistan                 11\n",
       "Colombia                    11\n",
       "Jordan                      11\n",
       "Turkey                      11\n",
       "Austria                     10\n",
       "Spain                        9\n",
       "Greece                       9\n",
       "India                        9\n",
       "Russian Federation           8\n",
       "Oman                         8\n",
       "Central African Republic     8\n",
       "Canada                       8\n",
       "Palestine                    8\n",
       "Philippines                  8\n",
       "Name: ID, dtype: int64"
      ]
     },
     "execution_count": 17,
     "metadata": {},
     "output_type": "execute_result"
    }
   ],
   "source": [
    "df.groupby('COUNTRY')['ID'].count().sort_values(ascending=False).head(20)"
   ]
  },
  {
   "cell_type": "code",
   "execution_count": 19,
   "metadata": {},
   "outputs": [
    {
     "data": {
      "text/plain": [
       "(array([91., 45., 36.,  4.,  7.,  1.,  1.,  0.,  0.,  1.]),\n",
       " array([ 1. ,  3.4,  5.8,  8.2, 10.6, 13. , 15.4, 17.8, 20.2, 22.6, 25. ]),\n",
       " <a list of 10 Patch objects>)"
      ]
     },
     "execution_count": 19,
     "metadata": {},
     "output_type": "execute_result"
    },
    {
     "data": {
      "image/png": "[encoded data removed]",
      "text/plain": [
       "<Figure size 432x288 with 1 Axes>"
      ]
     },
     "metadata": {
      "needs_background": "light"
     },
     "output_type": "display_data"
    }
   ],
   "source": [
    "plt.hist(df.groupby('COUNTRY')['ID'].count().values)"
   ]
  },
  {
   "cell_type": "markdown",
   "metadata": {},
   "source": [
    "# Data cleaning\n",
    "Moving ahead, there are a number of features I can create there, where each one is at the grain of country/date:\n",
    "- Count of total measures\n",
    "- Count of measures by CATEGORY\n",
    "- Count of measures by MEASURE\n",
    "\n",
    "Of these, I like the last one, as it is the most granular. XGBoost should be able to avoid overfitting here. But maybe the first one is good too, as a sort of aggregate and very simple feature.\n",
    "\n",
    "Issues:\n",
    "- Some dates are missing. Maybe I should only count the ones that have dates? Otherwise I'd have to do some kind of imputation.\n",
    "- Need to get country names aligned with Kaggle data\n",
    "\n",
    "Then I would be ready to engineer features."
   ]
  },
  {
   "cell_type": "markdown",
   "metadata": {},
   "source": [
    "What is the null fraction of dates?"
   ]
  },
  {
   "cell_type": "code",
   "execution_count": 20,
   "metadata": {},
   "outputs": [
    {
     "name": "stdout",
     "output_type": "stream",
     "text": [
      "0.13987730061349693 114\n"
     ]
    }
   ],
   "source": [
    "na_date_mask = df['DATE_IMPLEMENTED'].isnull()\n",
    "print(na_date_mask.mean(), na_date_mask.sum())"
   ]
  },
  {
   "cell_type": "markdown",
   "metadata": {},
   "source": [
    "How would I impute these? One option is time consuming research, although if the answer were knowable presumably the researchers would have included it. Another option is to simply drop them. This is easy, however in China for example, most of the countermeasures don't have date data:"
   ]
  },
  {
   "cell_type": "code",
   "execution_count": 21,
   "metadata": {},
   "outputs": [
    {
     "data": {
      "text/html": [
       "<div>\n",
       "<style scoped>\n",
       "    .dataframe tbody tr th:only-of-type {\n",
       "        vertical-align: middle;\n",
       "    }\n",
       "\n",
       "    .dataframe tbody tr th {\n",
       "        vertical-align: top;\n",
       "    }\n",
       "\n",
       "    .dataframe thead th {\n",
       "        text-align: right;\n",
       "    }\n",
       "</style>\n",
       "<table border=\"1\" class=\"dataframe\">\n",
       "  <thead>\n",
       "    <tr style=\"text-align: right;\">\n",
       "      <th></th>\n",
       "      <th>DATE_IMPLEMENTED</th>\n",
       "      <th>CATEGORY</th>\n",
       "      <th>MEASURE</th>\n",
       "      <th>TARGETED_POP_GROUP</th>\n",
       "      <th>COMMENTS</th>\n",
       "    </tr>\n",
       "  </thead>\n",
       "  <tbody>\n",
       "    <tr>\n",
       "      <th>177</th>\n",
       "      <td>NaT</td>\n",
       "      <td>Social distancing</td>\n",
       "      <td>Schools closure</td>\n",
       "      <td>NaN</td>\n",
       "      <td>SCFN's (schools for the children of foreign na...</td>\n",
       "    </tr>\n",
       "    <tr>\n",
       "      <th>178</th>\n",
       "      <td>NaT</td>\n",
       "      <td>Social distancing</td>\n",
       "      <td>Public services closure</td>\n",
       "      <td>NaN</td>\n",
       "      <td>NaN</td>\n",
       "    </tr>\n",
       "    <tr>\n",
       "      <th>179</th>\n",
       "      <td>NaT</td>\n",
       "      <td>Public health measures</td>\n",
       "      <td>Introduction of quarantine policies</td>\n",
       "      <td>Yes</td>\n",
       "      <td>all people with symptoms and in some regions t...</td>\n",
       "    </tr>\n",
       "    <tr>\n",
       "      <th>180</th>\n",
       "      <td>2020-01-29</td>\n",
       "      <td>Social distancing</td>\n",
       "      <td>Limit public gatherings</td>\n",
       "      <td>No</td>\n",
       "      <td>all provincial-level regions on the Chinese ma...</td>\n",
       "    </tr>\n",
       "    <tr>\n",
       "      <th>181</th>\n",
       "      <td>2020-03-14</td>\n",
       "      <td>Social and economic measures</td>\n",
       "      <td>Economic measures</td>\n",
       "      <td>Yes</td>\n",
       "      <td>people with low income levels</td>\n",
       "    </tr>\n",
       "    <tr>\n",
       "      <th>182</th>\n",
       "      <td>NaT</td>\n",
       "      <td>Public health measures</td>\n",
       "      <td>Awareness campaigns</td>\n",
       "      <td>NaN</td>\n",
       "      <td>NaN</td>\n",
       "    </tr>\n",
       "    <tr>\n",
       "      <th>183</th>\n",
       "      <td>NaT</td>\n",
       "      <td>Public health measures</td>\n",
       "      <td>Health screenings in airports and border cross...</td>\n",
       "      <td>Yes</td>\n",
       "      <td>International flighes</td>\n",
       "    </tr>\n",
       "    <tr>\n",
       "      <th>184</th>\n",
       "      <td>NaT</td>\n",
       "      <td>Social and economic measures</td>\n",
       "      <td>Emergency administrative structures activated ...</td>\n",
       "      <td>NaN</td>\n",
       "      <td>NaN</td>\n",
       "    </tr>\n",
       "    <tr>\n",
       "      <th>185</th>\n",
       "      <td>2020-01-27</td>\n",
       "      <td>Movement restrictions</td>\n",
       "      <td>Travel restrictions</td>\n",
       "      <td>NaN</td>\n",
       "      <td>NaN</td>\n",
       "    </tr>\n",
       "    <tr>\n",
       "      <th>186</th>\n",
       "      <td>NaT</td>\n",
       "      <td>Public health measures</td>\n",
       "      <td>Strengthening the public health system</td>\n",
       "      <td>NaN</td>\n",
       "      <td>Two hospitals, namely Huoshenshan and Leishens...</td>\n",
       "    </tr>\n",
       "    <tr>\n",
       "      <th>187</th>\n",
       "      <td>2020-01-20</td>\n",
       "      <td>Social and economic measures</td>\n",
       "      <td>State of emergency declared</td>\n",
       "      <td>No</td>\n",
       "      <td>NaN</td>\n",
       "    </tr>\n",
       "    <tr>\n",
       "      <th>188</th>\n",
       "      <td>NaT</td>\n",
       "      <td>Social and economic measures</td>\n",
       "      <td>General lockdown</td>\n",
       "      <td>No</td>\n",
       "      <td>In many regions</td>\n",
       "    </tr>\n",
       "    <tr>\n",
       "      <th>189</th>\n",
       "      <td>NaT</td>\n",
       "      <td>Movement restrictions</td>\n",
       "      <td>Additional health/documents requirements upon ...</td>\n",
       "      <td>No</td>\n",
       "      <td>everyone arriving from abroad</td>\n",
       "    </tr>\n",
       "    <tr>\n",
       "      <th>200</th>\n",
       "      <td>2020-03-13</td>\n",
       "      <td>Public health measures</td>\n",
       "      <td>Psychological assistance and medical social work</td>\n",
       "      <td>Yes</td>\n",
       "      <td>Patients, health personnel and people in quara...</td>\n",
       "    </tr>\n",
       "    <tr>\n",
       "      <th>772</th>\n",
       "      <td>2020-03-19</td>\n",
       "      <td>Public health measures</td>\n",
       "      <td>Introduction of quarantine policies</td>\n",
       "      <td>Yes</td>\n",
       "      <td>all arriving travelers have to quarantine for ...</td>\n",
       "    </tr>\n",
       "    <tr>\n",
       "      <th>778</th>\n",
       "      <td>NaT</td>\n",
       "      <td>Public health measures</td>\n",
       "      <td>Health screenings in airports and border cross...</td>\n",
       "      <td>Yes</td>\n",
       "      <td>intensified health screening for travelers arr...</td>\n",
       "    </tr>\n",
       "    <tr>\n",
       "      <th>779</th>\n",
       "      <td>NaT</td>\n",
       "      <td>Public health measures</td>\n",
       "      <td>Introduction of quarantine policies</td>\n",
       "      <td>Yes</td>\n",
       "      <td>stricter quarantine rules for travelers arrivi...</td>\n",
       "    </tr>\n",
       "  </tbody>\n",
       "</table>\n",
       "</div>"
      ],
      "text/plain": [
       "    DATE_IMPLEMENTED                      CATEGORY  \\\n",
       "177              NaT             Social distancing   \n",
       "178              NaT             Social distancing   \n",
       "179              NaT        Public health measures   \n",
       "180       2020-01-29             Social distancing   \n",
       "181       2020-03-14  Social and economic measures   \n",
       "182              NaT        Public health measures   \n",
       "183              NaT        Public health measures   \n",
       "184              NaT  Social and economic measures   \n",
       "185       2020-01-27         Movement restrictions   \n",
       "186              NaT        Public health measures   \n",
       "187       2020-01-20  Social and economic measures   \n",
       "188              NaT  Social and economic measures   \n",
       "189              NaT         Movement restrictions   \n",
       "200       2020-03-13        Public health measures   \n",
       "772       2020-03-19        Public health measures   \n",
       "778              NaT        Public health measures   \n",
       "779              NaT        Public health measures   \n",
       "\n",
       "                                               MEASURE TARGETED_POP_GROUP  \\\n",
       "177                                   Schools closure                 NaN   \n",
       "178                           Public services closure                 NaN   \n",
       "179                Introduction of quarantine policies                Yes   \n",
       "180                            Limit public gatherings                 No   \n",
       "181                                  Economic measures                Yes   \n",
       "182                                Awareness campaigns                NaN   \n",
       "183  Health screenings in airports and border cross...                Yes   \n",
       "184  Emergency administrative structures activated ...                NaN   \n",
       "185                                Travel restrictions                NaN   \n",
       "186             Strengthening the public health system                NaN   \n",
       "187                        State of emergency declared                 No   \n",
       "188                                   General lockdown                 No   \n",
       "189  Additional health/documents requirements upon ...                 No   \n",
       "200   Psychological assistance and medical social work                Yes   \n",
       "772                Introduction of quarantine policies                Yes   \n",
       "778  Health screenings in airports and border cross...                Yes   \n",
       "779                Introduction of quarantine policies                Yes   \n",
       "\n",
       "                                              COMMENTS  \n",
       "177  SCFN's (schools for the children of foreign na...  \n",
       "178                                                NaN  \n",
       "179  all people with symptoms and in some regions t...  \n",
       "180  all provincial-level regions on the Chinese ma...  \n",
       "181                      people with low income levels  \n",
       "182                                                NaN  \n",
       "183                              International flighes  \n",
       "184                                                NaN  \n",
       "185                                                NaN  \n",
       "186  Two hospitals, namely Huoshenshan and Leishens...  \n",
       "187                                                NaN  \n",
       "188                                    In many regions  \n",
       "189                      everyone arriving from abroad  \n",
       "200  Patients, health personnel and people in quara...  \n",
       "772  all arriving travelers have to quarantine for ...  \n",
       "778  intensified health screening for travelers arr...  \n",
       "779  stricter quarantine rules for travelers arrivi...  "
      ]
     },
     "execution_count": 21,
     "metadata": {},
     "output_type": "execute_result"
    }
   ],
   "source": [
    "df[df['COUNTRY'] == 'China'][['DATE_IMPLEMENTED', 'CATEGORY', 'MEASURE', 'TARGETED_POP_GROUP', 'COMMENTS']]"
   ]
  },
  {
   "cell_type": "markdown",
   "metadata": {},
   "source": [
    "Another option is to impute in an automated way. I think a sensible way to do this would be to select a random date within the range of the first date a country has any countermeasure, and the present.\n",
    "\n",
    "For countries where all the date data is null, this is certainly ethnocentric of me, but I will select a random date from the first U.S. countermeasure, to the present."
   ]
  },
  {
   "cell_type": "code",
   "execution_count": 22,
   "metadata": {},
   "outputs": [],
   "source": [
    "us_start_date = datetime.datetime(2020,1,31)"
   ]
  },
  {
   "cell_type": "markdown",
   "metadata": {},
   "source": [
    "What is the latest date in the dataset?"
   ]
  },
  {
   "cell_type": "code",
   "execution_count": 23,
   "metadata": {},
   "outputs": [
    {
     "data": {
      "text/plain": [
       "Timestamp('2020-03-27 00:00:00')"
      ]
     },
     "execution_count": 23,
     "metadata": {},
     "output_type": "execute_result"
    }
   ],
   "source": [
    "df['DATE_IMPLEMENTED'].max()"
   ]
  },
  {
   "cell_type": "markdown",
   "metadata": {},
   "source": [
    "Interesting, this is in the future. Must be a planned measure. I'll used today's date as the last date a measure can be selected from."
   ]
  },
  {
   "cell_type": "code",
   "execution_count": 24,
   "metadata": {},
   "outputs": [],
   "source": [
    "end_date = datetime.datetime(2020, 3, 20)"
   ]
  },
  {
   "cell_type": "code",
   "execution_count": 25,
   "metadata": {},
   "outputs": [
    {
     "data": {
      "text/plain": [
       "[3, 4, 1]"
      ]
     },
     "execution_count": 25,
     "metadata": {},
     "output_type": "execute_result"
    }
   ],
   "source": [
    "random.seed(24)\n",
    "random.choices([1, 2, 3, 4], k=3)"
   ]
  },
  {
   "cell_type": "code",
   "execution_count": 26,
   "metadata": {},
   "outputs": [
    {
     "data": {
      "text/plain": [
       "2"
      ]
     },
     "execution_count": 26,
     "metadata": {},
     "output_type": "execute_result"
    }
   ],
   "source": [
    "datetime.timedelta(days=2).days"
   ]
  },
  {
   "cell_type": "markdown",
   "metadata": {},
   "source": [
    "https://stackoverflow.com/questions/13703720/converting-between-datetime-timestamp-and-datetime64"
   ]
  },
  {
   "cell_type": "code",
   "execution_count": 27,
   "metadata": {},
   "outputs": [],
   "source": [
    "df_filled = df.copy()\n",
    "random.seed(24)\n",
    "for country in all_countries:\n",
    "#     print('====================================')\n",
    "#     print(country)\n",
    "    country_mask = df['COUNTRY'] == country\n",
    "#     print(df[country_mask]['DATE_IMPLEMENTED'])\n",
    "    min_date_here = df[country_mask]['DATE_IMPLEMENTED'].min()\n",
    "    if pd.isnull(min_date_here):\n",
    "        min_date_here = us_start_date\n",
    "    \n",
    "    country_null_mask = country_mask & na_date_mask\n",
    "    n_nulls_this_country = (country_null_mask).sum()\n",
    "    if n_nulls_this_country > 0:\n",
    "#         print(country)\n",
    "#         print(n_nulls_this_country)\n",
    "#         print(country_mask.sum())\n",
    "#         print(min_date_here)\n",
    "        n_days = (end_date - min_date_here).days\n",
    "        days_range = list(range(1,n_days+1))\n",
    "        days_choice = random.choices(days_range, k=n_nulls_this_country)\n",
    "        dates_to_fill = [np.datetime64(min_date_here + datetime.timedelta(days=this_day))\n",
    "                         for this_day in days_choice]\n",
    "#         print(dates_to_fill)\n",
    "#         print(df_filled.loc[country_null_mask, 'DATE_IMPLEMENTED'].shape)\n",
    "#         print(len(dates_to_fill))\n",
    "        df_filled.loc[country_null_mask, 'DATE_IMPLEMENTED'] = dates_to_fill"
   ]
  },
  {
   "cell_type": "code",
   "execution_count": 28,
   "metadata": {},
   "outputs": [
    {
     "name": "stdout",
     "output_type": "stream",
     "text": [
      "<class 'pandas.core.frame.DataFrame'>\n",
      "RangeIndex: 815 entries, 0 to 814\n",
      "Data columns (total 16 columns):\n",
      " #   Column              Non-Null Count  Dtype         \n",
      "---  ------              --------------  -----         \n",
      " 0   ID                  815 non-null    int64         \n",
      " 1   COUNTRY             815 non-null    object        \n",
      " 2   ISO                 815 non-null    object        \n",
      " 3   ADMIN_LEVEL_NAME    24 non-null     object        \n",
      " 4   PCODE               0 non-null      float64       \n",
      " 5   REGION              815 non-null    object        \n",
      " 6   CATEGORY            815 non-null    object        \n",
      " 7   MEASURE             815 non-null    object        \n",
      " 8   TARGETED_POP_GROUP  777 non-null    object        \n",
      " 9   COMMENTS            694 non-null    object        \n",
      " 10  DATE_IMPLEMENTED    815 non-null    datetime64[ns]\n",
      " 11  SOURCE              797 non-null    object        \n",
      " 12  SOURCE_TYPE         793 non-null    object        \n",
      " 13  LINK                792 non-null    object        \n",
      " 14  ENTRY_DATE          814 non-null    datetime64[ns]\n",
      " 15  Alternative source  10 non-null     object        \n",
      "dtypes: datetime64[ns](2), float64(1), int64(1), object(12)\n",
      "memory usage: 102.0+ KB\n"
     ]
    }
   ],
   "source": [
    "df_filled.info()"
   ]
  },
  {
   "cell_type": "code",
   "execution_count": 29,
   "metadata": {},
   "outputs": [
    {
     "data": {
      "text/html": [
       "<div>\n",
       "<style scoped>\n",
       "    .dataframe tbody tr th:only-of-type {\n",
       "        vertical-align: middle;\n",
       "    }\n",
       "\n",
       "    .dataframe tbody tr th {\n",
       "        vertical-align: top;\n",
       "    }\n",
       "\n",
       "    .dataframe thead th {\n",
       "        text-align: right;\n",
       "    }\n",
       "</style>\n",
       "<table border=\"1\" class=\"dataframe\">\n",
       "  <thead>\n",
       "    <tr style=\"text-align: right;\">\n",
       "      <th></th>\n",
       "      <th>DATE_IMPLEMENTED</th>\n",
       "      <th>CATEGORY</th>\n",
       "      <th>MEASURE</th>\n",
       "      <th>TARGETED_POP_GROUP</th>\n",
       "      <th>COMMENTS</th>\n",
       "    </tr>\n",
       "  </thead>\n",
       "  <tbody>\n",
       "    <tr>\n",
       "      <th>177</th>\n",
       "      <td>2020-02-09</td>\n",
       "      <td>Social distancing</td>\n",
       "      <td>Schools closure</td>\n",
       "      <td>NaN</td>\n",
       "      <td>SCFN's (schools for the children of foreign na...</td>\n",
       "    </tr>\n",
       "    <tr>\n",
       "      <th>178</th>\n",
       "      <td>2020-02-08</td>\n",
       "      <td>Social distancing</td>\n",
       "      <td>Public services closure</td>\n",
       "      <td>NaN</td>\n",
       "      <td>NaN</td>\n",
       "    </tr>\n",
       "    <tr>\n",
       "      <th>179</th>\n",
       "      <td>2020-02-22</td>\n",
       "      <td>Public health measures</td>\n",
       "      <td>Introduction of quarantine policies</td>\n",
       "      <td>Yes</td>\n",
       "      <td>all people with symptoms and in some regions t...</td>\n",
       "    </tr>\n",
       "    <tr>\n",
       "      <th>180</th>\n",
       "      <td>2020-01-29</td>\n",
       "      <td>Social distancing</td>\n",
       "      <td>Limit public gatherings</td>\n",
       "      <td>No</td>\n",
       "      <td>all provincial-level regions on the Chinese ma...</td>\n",
       "    </tr>\n",
       "    <tr>\n",
       "      <th>181</th>\n",
       "      <td>2020-03-14</td>\n",
       "      <td>Social and economic measures</td>\n",
       "      <td>Economic measures</td>\n",
       "      <td>Yes</td>\n",
       "      <td>people with low income levels</td>\n",
       "    </tr>\n",
       "    <tr>\n",
       "      <th>182</th>\n",
       "      <td>2020-02-12</td>\n",
       "      <td>Public health measures</td>\n",
       "      <td>Awareness campaigns</td>\n",
       "      <td>NaN</td>\n",
       "      <td>NaN</td>\n",
       "    </tr>\n",
       "    <tr>\n",
       "      <th>183</th>\n",
       "      <td>2020-03-14</td>\n",
       "      <td>Public health measures</td>\n",
       "      <td>Health screenings in airports and border cross...</td>\n",
       "      <td>Yes</td>\n",
       "      <td>International flighes</td>\n",
       "    </tr>\n",
       "    <tr>\n",
       "      <th>184</th>\n",
       "      <td>2020-03-16</td>\n",
       "      <td>Social and economic measures</td>\n",
       "      <td>Emergency administrative structures activated ...</td>\n",
       "      <td>NaN</td>\n",
       "      <td>NaN</td>\n",
       "    </tr>\n",
       "    <tr>\n",
       "      <th>185</th>\n",
       "      <td>2020-01-27</td>\n",
       "      <td>Movement restrictions</td>\n",
       "      <td>Travel restrictions</td>\n",
       "      <td>NaN</td>\n",
       "      <td>NaN</td>\n",
       "    </tr>\n",
       "    <tr>\n",
       "      <th>186</th>\n",
       "      <td>2020-02-08</td>\n",
       "      <td>Public health measures</td>\n",
       "      <td>Strengthening the public health system</td>\n",
       "      <td>NaN</td>\n",
       "      <td>Two hospitals, namely Huoshenshan and Leishens...</td>\n",
       "    </tr>\n",
       "    <tr>\n",
       "      <th>187</th>\n",
       "      <td>2020-01-20</td>\n",
       "      <td>Social and economic measures</td>\n",
       "      <td>State of emergency declared</td>\n",
       "      <td>No</td>\n",
       "      <td>NaN</td>\n",
       "    </tr>\n",
       "    <tr>\n",
       "      <th>188</th>\n",
       "      <td>2020-03-14</td>\n",
       "      <td>Social and economic measures</td>\n",
       "      <td>General lockdown</td>\n",
       "      <td>No</td>\n",
       "      <td>In many regions</td>\n",
       "    </tr>\n",
       "    <tr>\n",
       "      <th>189</th>\n",
       "      <td>2020-01-25</td>\n",
       "      <td>Movement restrictions</td>\n",
       "      <td>Additional health/documents requirements upon ...</td>\n",
       "      <td>No</td>\n",
       "      <td>everyone arriving from abroad</td>\n",
       "    </tr>\n",
       "    <tr>\n",
       "      <th>200</th>\n",
       "      <td>2020-03-13</td>\n",
       "      <td>Public health measures</td>\n",
       "      <td>Psychological assistance and medical social work</td>\n",
       "      <td>Yes</td>\n",
       "      <td>Patients, health personnel and people in quara...</td>\n",
       "    </tr>\n",
       "    <tr>\n",
       "      <th>772</th>\n",
       "      <td>2020-03-19</td>\n",
       "      <td>Public health measures</td>\n",
       "      <td>Introduction of quarantine policies</td>\n",
       "      <td>Yes</td>\n",
       "      <td>all arriving travelers have to quarantine for ...</td>\n",
       "    </tr>\n",
       "    <tr>\n",
       "      <th>778</th>\n",
       "      <td>2020-01-26</td>\n",
       "      <td>Public health measures</td>\n",
       "      <td>Health screenings in airports and border cross...</td>\n",
       "      <td>Yes</td>\n",
       "      <td>intensified health screening for travelers arr...</td>\n",
       "    </tr>\n",
       "    <tr>\n",
       "      <th>779</th>\n",
       "      <td>2020-02-29</td>\n",
       "      <td>Public health measures</td>\n",
       "      <td>Introduction of quarantine policies</td>\n",
       "      <td>Yes</td>\n",
       "      <td>stricter quarantine rules for travelers arrivi...</td>\n",
       "    </tr>\n",
       "  </tbody>\n",
       "</table>\n",
       "</div>"
      ],
      "text/plain": [
       "    DATE_IMPLEMENTED                      CATEGORY  \\\n",
       "177       2020-02-09             Social distancing   \n",
       "178       2020-02-08             Social distancing   \n",
       "179       2020-02-22        Public health measures   \n",
       "180       2020-01-29             Social distancing   \n",
       "181       2020-03-14  Social and economic measures   \n",
       "182       2020-02-12        Public health measures   \n",
       "183       2020-03-14        Public health measures   \n",
       "184       2020-03-16  Social and economic measures   \n",
       "185       2020-01-27         Movement restrictions   \n",
       "186       2020-02-08        Public health measures   \n",
       "187       2020-01-20  Social and economic measures   \n",
       "188       2020-03-14  Social and economic measures   \n",
       "189       2020-01-25         Movement restrictions   \n",
       "200       2020-03-13        Public health measures   \n",
       "772       2020-03-19        Public health measures   \n",
       "778       2020-01-26        Public health measures   \n",
       "779       2020-02-29        Public health measures   \n",
       "\n",
       "                                               MEASURE TARGETED_POP_GROUP  \\\n",
       "177                                   Schools closure                 NaN   \n",
       "178                           Public services closure                 NaN   \n",
       "179                Introduction of quarantine policies                Yes   \n",
       "180                            Limit public gatherings                 No   \n",
       "181                                  Economic measures                Yes   \n",
       "182                                Awareness campaigns                NaN   \n",
       "183  Health screenings in airports and border cross...                Yes   \n",
       "184  Emergency administrative structures activated ...                NaN   \n",
       "185                                Travel restrictions                NaN   \n",
       "186             Strengthening the public health system                NaN   \n",
       "187                        State of emergency declared                 No   \n",
       "188                                   General lockdown                 No   \n",
       "189  Additional health/documents requirements upon ...                 No   \n",
       "200   Psychological assistance and medical social work                Yes   \n",
       "772                Introduction of quarantine policies                Yes   \n",
       "778  Health screenings in airports and border cross...                Yes   \n",
       "779                Introduction of quarantine policies                Yes   \n",
       "\n",
       "                                              COMMENTS  \n",
       "177  SCFN's (schools for the children of foreign na...  \n",
       "178                                                NaN  \n",
       "179  all people with symptoms and in some regions t...  \n",
       "180  all provincial-level regions on the Chinese ma...  \n",
       "181                      people with low income levels  \n",
       "182                                                NaN  \n",
       "183                              International flighes  \n",
       "184                                                NaN  \n",
       "185                                                NaN  \n",
       "186  Two hospitals, namely Huoshenshan and Leishens...  \n",
       "187                                                NaN  \n",
       "188                                    In many regions  \n",
       "189                      everyone arriving from abroad  \n",
       "200  Patients, health personnel and people in quara...  \n",
       "772  all arriving travelers have to quarantine for ...  \n",
       "778  intensified health screening for travelers arr...  \n",
       "779  stricter quarantine rules for travelers arrivi...  "
      ]
     },
     "execution_count": 29,
     "metadata": {},
     "output_type": "execute_result"
    }
   ],
   "source": [
    "df_filled[df_filled['COUNTRY'] == 'China']\\\n",
    "[['DATE_IMPLEMENTED', 'CATEGORY', 'MEASURE', 'TARGETED_POP_GROUP', 'COMMENTS']]"
   ]
  },
  {
   "cell_type": "markdown",
   "metadata": {},
   "source": [
    "Works."
   ]
  },
  {
   "cell_type": "markdown",
   "metadata": {},
   "source": [
    "## Match up country names"
   ]
  },
  {
   "cell_type": "code",
   "execution_count": 51,
   "metadata": {},
   "outputs": [],
   "source": [
    "path = '../covid19-global-forecasting-week-1/'\n",
    "train = pd.read_csv(path + 'train.csv')\n",
    "test = pd.read_csv(path + 'test.csv')"
   ]
  },
  {
   "cell_type": "code",
   "execution_count": 31,
   "metadata": {},
   "outputs": [
    {
     "data": {
      "text/html": [
       "<div>\n",
       "<style scoped>\n",
       "    .dataframe tbody tr th:only-of-type {\n",
       "        vertical-align: middle;\n",
       "    }\n",
       "\n",
       "    .dataframe tbody tr th {\n",
       "        vertical-align: top;\n",
       "    }\n",
       "\n",
       "    .dataframe thead th {\n",
       "        text-align: right;\n",
       "    }\n",
       "</style>\n",
       "<table border=\"1\" class=\"dataframe\">\n",
       "  <thead>\n",
       "    <tr style=\"text-align: right;\">\n",
       "      <th></th>\n",
       "      <th>Id</th>\n",
       "      <th>Province/State</th>\n",
       "      <th>Country/Region</th>\n",
       "      <th>Lat</th>\n",
       "      <th>Long</th>\n",
       "      <th>Date</th>\n",
       "      <th>ConfirmedCases</th>\n",
       "      <th>Fatalities</th>\n",
       "    </tr>\n",
       "  </thead>\n",
       "  <tbody>\n",
       "    <tr>\n",
       "      <th>0</th>\n",
       "      <td>1</td>\n",
       "      <td>NaN</td>\n",
       "      <td>Afghanistan</td>\n",
       "      <td>33.0</td>\n",
       "      <td>65.0</td>\n",
       "      <td>2020-01-22</td>\n",
       "      <td>0.0</td>\n",
       "      <td>0.0</td>\n",
       "    </tr>\n",
       "    <tr>\n",
       "      <th>1</th>\n",
       "      <td>2</td>\n",
       "      <td>NaN</td>\n",
       "      <td>Afghanistan</td>\n",
       "      <td>33.0</td>\n",
       "      <td>65.0</td>\n",
       "      <td>2020-01-23</td>\n",
       "      <td>0.0</td>\n",
       "      <td>0.0</td>\n",
       "    </tr>\n",
       "    <tr>\n",
       "      <th>2</th>\n",
       "      <td>3</td>\n",
       "      <td>NaN</td>\n",
       "      <td>Afghanistan</td>\n",
       "      <td>33.0</td>\n",
       "      <td>65.0</td>\n",
       "      <td>2020-01-24</td>\n",
       "      <td>0.0</td>\n",
       "      <td>0.0</td>\n",
       "    </tr>\n",
       "    <tr>\n",
       "      <th>3</th>\n",
       "      <td>4</td>\n",
       "      <td>NaN</td>\n",
       "      <td>Afghanistan</td>\n",
       "      <td>33.0</td>\n",
       "      <td>65.0</td>\n",
       "      <td>2020-01-25</td>\n",
       "      <td>0.0</td>\n",
       "      <td>0.0</td>\n",
       "    </tr>\n",
       "    <tr>\n",
       "      <th>4</th>\n",
       "      <td>5</td>\n",
       "      <td>NaN</td>\n",
       "      <td>Afghanistan</td>\n",
       "      <td>33.0</td>\n",
       "      <td>65.0</td>\n",
       "      <td>2020-01-26</td>\n",
       "      <td>0.0</td>\n",
       "      <td>0.0</td>\n",
       "    </tr>\n",
       "  </tbody>\n",
       "</table>\n",
       "</div>"
      ],
      "text/plain": [
       "   Id Province/State Country/Region   Lat  Long        Date  ConfirmedCases  \\\n",
       "0   1            NaN    Afghanistan  33.0  65.0  2020-01-22             0.0   \n",
       "1   2            NaN    Afghanistan  33.0  65.0  2020-01-23             0.0   \n",
       "2   3            NaN    Afghanistan  33.0  65.0  2020-01-24             0.0   \n",
       "3   4            NaN    Afghanistan  33.0  65.0  2020-01-25             0.0   \n",
       "4   5            NaN    Afghanistan  33.0  65.0  2020-01-26             0.0   \n",
       "\n",
       "   Fatalities  \n",
       "0         0.0  \n",
       "1         0.0  \n",
       "2         0.0  \n",
       "3         0.0  \n",
       "4         0.0  "
      ]
     },
     "execution_count": 31,
     "metadata": {},
     "output_type": "execute_result"
    }
   ],
   "source": [
    "train.head()"
   ]
  },
  {
   "cell_type": "markdown",
   "metadata": {},
   "source": [
    "In competition data set but not here"
   ]
  },
  {
   "cell_type": "code",
   "execution_count": 32,
   "metadata": {},
   "outputs": [
    {
     "data": {
      "text/plain": [
       "{'Andorra',\n",
       " 'Aruba',\n",
       " 'Brunei',\n",
       " 'Congo (Brazzaville)',\n",
       " 'Congo (Kinshasa)',\n",
       " \"Cote d'Ivoire\",\n",
       " 'Cruise Ship',\n",
       " 'Cuba',\n",
       " 'Czechia',\n",
       " 'French Guiana',\n",
       " 'Gabon',\n",
       " 'Gambia, The',\n",
       " 'Greenland',\n",
       " 'Guadeloupe',\n",
       " 'Guam',\n",
       " 'Guernsey',\n",
       " 'Guinea',\n",
       " 'Holy See',\n",
       " 'Jersey',\n",
       " 'Korea, South',\n",
       " 'Kosovo',\n",
       " 'Martinique',\n",
       " 'Mayotte',\n",
       " 'Moldova',\n",
       " 'Monaco',\n",
       " 'North Macedonia',\n",
       " 'Puerto Rico',\n",
       " 'Republic of the Congo',\n",
       " 'Reunion',\n",
       " 'Russia',\n",
       " 'San Marino',\n",
       " 'Taiwan*',\n",
       " 'The Bahamas',\n",
       " 'The Gambia',\n",
       " 'US',\n",
       " 'Vietnam'}"
      ]
     },
     "execution_count": 32,
     "metadata": {},
     "output_type": "execute_result"
    }
   ],
   "source": [
    "set(train['Country/Region'].unique()) - set(all_countries)"
   ]
  },
  {
   "cell_type": "markdown",
   "metadata": {},
   "source": [
    "Here but not in competition:"
   ]
  },
  {
   "cell_type": "code",
   "execution_count": 33,
   "metadata": {},
   "outputs": [
    {
     "data": {
      "text/plain": [
       "{'Angola',\n",
       " 'Bahamas',\n",
       " 'Belize',\n",
       " 'Brunei Darussalam',\n",
       " 'Burundi',\n",
       " 'Cabo Verde',\n",
       " 'Chad',\n",
       " 'Comoros',\n",
       " 'Congo',\n",
       " 'Congo DR',\n",
       " 'Czech Republic',\n",
       " \"Côte d'Ivoire\",\n",
       " 'Dominica',\n",
       " 'El Salvador',\n",
       " 'Eritrea',\n",
       " 'Fiji',\n",
       " 'Gambia',\n",
       " 'Grenada',\n",
       " 'Guinea-Bissau',\n",
       " 'Haiti',\n",
       " 'Kiribati',\n",
       " 'Korea DPR',\n",
       " 'Korea Republic of',\n",
       " 'Lao PDR',\n",
       " 'Lesotho',\n",
       " 'Libya',\n",
       " 'Madagascar',\n",
       " 'Malawi',\n",
       " 'Mali',\n",
       " 'Marshall Islands',\n",
       " 'Micronesia',\n",
       " 'Moldova Republic Of',\n",
       " 'Mozambique',\n",
       " 'Myanmar',\n",
       " 'Nauru',\n",
       " 'Nicaragua',\n",
       " 'Niger',\n",
       " 'North Macedonia Republic Of',\n",
       " 'Palau',\n",
       " 'Palestine',\n",
       " 'Papua New Guinea',\n",
       " 'Russian Federation',\n",
       " 'Samoa',\n",
       " 'Sierra Leone',\n",
       " 'Solomon Islands',\n",
       " 'South Sudan',\n",
       " 'Syria',\n",
       " 'Tajikistan',\n",
       " 'Timor-Leste',\n",
       " 'Tonga',\n",
       " 'Turkmenistan',\n",
       " 'Tuvalu',\n",
       " 'Uganda',\n",
       " 'United States of America',\n",
       " 'Vanuatu',\n",
       " 'Viet Nam',\n",
       " 'Yemen',\n",
       " 'Zimbabwe',\n",
       " 'kenya'}"
      ]
     },
     "execution_count": 33,
     "metadata": {},
     "output_type": "execute_result"
    }
   ],
   "source": [
    "set(all_countries) - set(train['Country/Region'].unique())"
   ]
  },
  {
   "cell_type": "markdown",
   "metadata": {},
   "source": [
    "Unfortunately this needs to be done manually."
   ]
  },
  {
   "cell_type": "code",
   "execution_count": 34,
   "metadata": {},
   "outputs": [],
   "source": [
    "mapper = {'Bahamas':'The Bahamas',\n",
    "         'Brunei Darussalam':'Brunei',\n",
    "         'Congo':'Congo (Brazzaville)',\n",
    "         'Congo DR':'Republic of the Congo',\n",
    "         'Czech Republic':'Czechia',\n",
    "         \"Côte d'Ivoire\":\"Cote d'Ivoire\",\n",
    "         'Gambia':'The Gambia',\n",
    "         'Guinea-Bissau':'Guinea',\n",
    "         'Korea Republic of':'Korea, South',\n",
    "         'Moldova Republic Of':'Moldova',\n",
    "         'North Macedonia Republic Of':'North Macedonia',\n",
    "         'Russian Federation':'Russia',\n",
    "         'United States of America':'US',\n",
    "         'Viet Nam':'Vietnam'}"
   ]
  },
  {
   "cell_type": "markdown",
   "metadata": {},
   "source": [
    "Need to add elements in common to mapper."
   ]
  },
  {
   "cell_type": "code",
   "execution_count": 35,
   "metadata": {},
   "outputs": [],
   "source": [
    "intersection = set(all_countries) & set(train['Country/Region'].unique())\n",
    "# intersection"
   ]
  },
  {
   "cell_type": "code",
   "execution_count": 36,
   "metadata": {},
   "outputs": [],
   "source": [
    "for in_common_country in intersection:\n",
    "    mapper[in_common_country] = in_common_country"
   ]
  },
  {
   "cell_type": "code",
   "execution_count": 44,
   "metadata": {},
   "outputs": [],
   "source": [
    "df_countries_renamed = df_filled.copy()"
   ]
  },
  {
   "cell_type": "code",
   "execution_count": 45,
   "metadata": {},
   "outputs": [],
   "source": [
    "df_countries_renamed['COUNTRY'] = df_countries_renamed['COUNTRY'].map(mapper)"
   ]
  },
  {
   "cell_type": "code",
   "execution_count": 46,
   "metadata": {},
   "outputs": [
    {
     "data": {
      "text/plain": [
       "{'Andorra',\n",
       " 'Aruba',\n",
       " 'Congo (Kinshasa)',\n",
       " 'Cruise Ship',\n",
       " 'Cuba',\n",
       " 'French Guiana',\n",
       " 'Gabon',\n",
       " 'Gambia, The',\n",
       " 'Greenland',\n",
       " 'Guadeloupe',\n",
       " 'Guam',\n",
       " 'Guernsey',\n",
       " 'Holy See',\n",
       " 'Jersey',\n",
       " 'Kosovo',\n",
       " 'Martinique',\n",
       " 'Mayotte',\n",
       " 'Monaco',\n",
       " 'Puerto Rico',\n",
       " 'Reunion',\n",
       " 'San Marino',\n",
       " 'Taiwan*'}"
      ]
     },
     "execution_count": 46,
     "metadata": {},
     "output_type": "execute_result"
    }
   ],
   "source": [
    "set(train['Country/Region'].unique()) - set(df_countries_renamed['COUNTRY'].unique())"
   ]
  },
  {
   "cell_type": "markdown",
   "metadata": {},
   "source": [
    "Here but not in competition:"
   ]
  },
  {
   "cell_type": "code",
   "execution_count": 47,
   "metadata": {},
   "outputs": [
    {
     "data": {
      "text/plain": [
       "{nan}"
      ]
     },
     "execution_count": 47,
     "metadata": {},
     "output_type": "execute_result"
    }
   ],
   "source": [
    "set(df_countries_renamed['COUNTRY'].unique()) - set(train['Country/Region'].unique())"
   ]
  },
  {
   "cell_type": "markdown",
   "metadata": {},
   "source": [
    "If a country doesn't appear in the training set, its name is missing from this new DF. There are apparently no interventions from these countries in this data set. They can be dropped."
   ]
  },
  {
   "cell_type": "code",
   "execution_count": 49,
   "metadata": {},
   "outputs": [],
   "source": [
    "df_countries_renamed = df_countries_renamed.dropna(subset=['COUNTRY'])"
   ]
  },
  {
   "cell_type": "markdown",
   "metadata": {},
   "source": [
    "Note: Probably can copy over to `'Congo (Kinshasa)'` from the other Congo. "
   ]
  },
  {
   "cell_type": "markdown",
   "metadata": {},
   "source": [
    "# Engineer features\n",
    "\n",
    "Want a lag time from when the change was made? Perhaps the 7 day average incubation period?\n",
    "\n",
    "---\n",
    "\n",
    "Want some kind of `DataFrame` that can be joined on country/date, with the competition data. How to do this? Perhaps a multi-index on country/date, with columns being the features."
   ]
  },
  {
   "cell_type": "code",
   "execution_count": 50,
   "metadata": {},
   "outputs": [
    {
     "name": "stdout",
     "output_type": "stream",
     "text": [
      "<class 'pandas.core.frame.DataFrame'>\n",
      "Int64Index: 689 entries, 0 to 814\n",
      "Data columns (total 16 columns):\n",
      " #   Column              Non-Null Count  Dtype         \n",
      "---  ------              --------------  -----         \n",
      " 0   ID                  689 non-null    int64         \n",
      " 1   COUNTRY             689 non-null    object        \n",
      " 2   ISO                 689 non-null    object        \n",
      " 3   ADMIN_LEVEL_NAME    23 non-null     object        \n",
      " 4   PCODE               0 non-null      float64       \n",
      " 5   REGION              689 non-null    object        \n",
      " 6   CATEGORY            689 non-null    object        \n",
      " 7   MEASURE             689 non-null    object        \n",
      " 8   TARGETED_POP_GROUP  655 non-null    object        \n",
      " 9   COMMENTS            590 non-null    object        \n",
      " 10  DATE_IMPLEMENTED    689 non-null    datetime64[ns]\n",
      " 11  SOURCE              671 non-null    object        \n",
      " 12  SOURCE_TYPE         667 non-null    object        \n",
      " 13  LINK                666 non-null    object        \n",
      " 14  ENTRY_DATE          688 non-null    datetime64[ns]\n",
      " 15  Alternative source  8 non-null      object        \n",
      "dtypes: datetime64[ns](2), float64(1), int64(1), object(12)\n",
      "memory usage: 91.5+ KB\n"
     ]
    }
   ],
   "source": [
    "df_countries_renamed.info()"
   ]
  },
  {
   "cell_type": "markdown",
   "metadata": {},
   "source": [
    "What is the date range of the training and testing data?"
   ]
  },
  {
   "cell_type": "code",
   "execution_count": 52,
   "metadata": {},
   "outputs": [
    {
     "name": "stdout",
     "output_type": "stream",
     "text": [
      "2020-01-22 00:00:00\n",
      "2020-03-18 00:00:00\n",
      "2020-03-12 00:00:00\n",
      "2020-04-23 00:00:00\n"
     ]
    }
   ],
   "source": [
    "train['Date'] = pd.to_datetime(train['Date'])\n",
    "test['Date'] = pd.to_datetime(test['Date'])\n",
    "\n",
    "print(train['Date'].min())\n",
    "print(train['Date'].max())\n",
    "print(test['Date'].min())\n",
    "print(test['Date'].max())"
   ]
  },
  {
   "cell_type": "markdown",
   "metadata": {},
   "source": [
    "The features data here?"
   ]
  },
  {
   "cell_type": "code",
   "execution_count": 55,
   "metadata": {},
   "outputs": [
    {
     "name": "stdout",
     "output_type": "stream",
     "text": [
      "2020-01-02 00:00:00\n",
      "2020-03-27 00:00:00\n"
     ]
    }
   ],
   "source": [
    "print(df_countries_renamed['DATE_IMPLEMENTED'].min())\n",
    "print(df_countries_renamed['DATE_IMPLEMENTED'].max())\n",
    "# 2020-01-02 00:00:00\n",
    "# 2020-03-27 00:00:00"
   ]
  },
  {
   "cell_type": "markdown",
   "metadata": {},
   "source": [
    "Need to build features for the complete date range of training and testing data. But some measures were implemented starting before this, so need to start earlier."
   ]
  },
  {
   "cell_type": "code",
   "execution_count": 94,
   "metadata": {},
   "outputs": [],
   "source": [
    "start_date = datetime.datetime(2020, 1, 1)\n",
    "end_date = datetime.datetime(2020, 4, 23)"
   ]
  },
  {
   "cell_type": "code",
   "execution_count": 95,
   "metadata": {},
   "outputs": [
    {
     "data": {
      "text/plain": [
       "114"
      ]
     },
     "execution_count": 95,
     "metadata": {},
     "output_type": "execute_result"
    }
   ],
   "source": [
    "n_days = (end_date - start_date).days + 1\n",
    "n_days"
   ]
  },
  {
   "cell_type": "code",
   "execution_count": 96,
   "metadata": {},
   "outputs": [],
   "source": [
    "all_days = [np.datetime64(start_date + datetime.timedelta(days=day_count))\n",
    "            for day_count in range(n_days)]"
   ]
  },
  {
   "cell_type": "code",
   "execution_count": 97,
   "metadata": {},
   "outputs": [
    {
     "name": "stdout",
     "output_type": "stream",
     "text": [
      "[numpy.datetime64('2020-01-01T00:00:00.000000'), numpy.datetime64('2020-01-02T00:00:00.000000'), numpy.datetime64('2020-01-03T00:00:00.000000')]\n",
      "[numpy.datetime64('2020-04-21T00:00:00.000000'), numpy.datetime64('2020-04-22T00:00:00.000000'), numpy.datetime64('2020-04-23T00:00:00.000000')]\n",
      "114\n"
     ]
    }
   ],
   "source": [
    "print(all_days[:3])\n",
    "print(all_days[-3:])\n",
    "print(len(all_days))"
   ]
  },
  {
   "cell_type": "code",
   "execution_count": 98,
   "metadata": {},
   "outputs": [
    {
     "name": "stdout",
     "output_type": "stream",
     "text": [
      "141\n"
     ]
    }
   ],
   "source": [
    "matched_countries = df_countries_renamed['COUNTRY'].unique().tolist()\n",
    "print(len(matched_countries))"
   ]
  },
  {
   "cell_type": "code",
   "execution_count": 99,
   "metadata": {},
   "outputs": [
    {
     "data": {
      "text/plain": [
       "['Afghanistan', 'Bhutan', 'Antigua and Barbuda']"
      ]
     },
     "execution_count": 99,
     "metadata": {},
     "output_type": "execute_result"
    }
   ],
   "source": [
    "matched_countries[:3]"
   ]
  },
  {
   "cell_type": "code",
   "execution_count": 100,
   "metadata": {},
   "outputs": [],
   "source": [
    "matched_countries.sort()"
   ]
  },
  {
   "cell_type": "code",
   "execution_count": 101,
   "metadata": {},
   "outputs": [
    {
     "data": {
      "text/plain": [
       "['Afghanistan', 'Albania', 'Algeria']"
      ]
     },
     "execution_count": 101,
     "metadata": {},
     "output_type": "execute_result"
    }
   ],
   "source": [
    "matched_countries[:3]"
   ]
  },
  {
   "cell_type": "code",
   "execution_count": 102,
   "metadata": {},
   "outputs": [],
   "source": [
    "list_of_tuples_for_multiindex = []\n",
    "for country in matched_countries:\n",
    "    for date in all_days:\n",
    "        list_of_tuples_for_multiindex.append((country, date))"
   ]
  },
  {
   "cell_type": "code",
   "execution_count": 103,
   "metadata": {},
   "outputs": [
    {
     "data": {
      "text/plain": [
       "[('Afghanistan', numpy.datetime64('2020-01-01T00:00:00.000000')),\n",
       " ('Afghanistan', numpy.datetime64('2020-01-02T00:00:00.000000')),\n",
       " ('Afghanistan', numpy.datetime64('2020-01-03T00:00:00.000000'))]"
      ]
     },
     "execution_count": 103,
     "metadata": {},
     "output_type": "execute_result"
    }
   ],
   "source": [
    "list_of_tuples_for_multiindex[:3]"
   ]
  },
  {
   "cell_type": "code",
   "execution_count": 104,
   "metadata": {},
   "outputs": [
    {
     "data": {
      "text/plain": [
       "[('Zambia', numpy.datetime64('2020-04-21T00:00:00.000000')),\n",
       " ('Zambia', numpy.datetime64('2020-04-22T00:00:00.000000')),\n",
       " ('Zambia', numpy.datetime64('2020-04-23T00:00:00.000000'))]"
      ]
     },
     "execution_count": 104,
     "metadata": {},
     "output_type": "execute_result"
    }
   ],
   "source": [
    "list_of_tuples_for_multiindex[-3:]"
   ]
  },
  {
   "cell_type": "code",
   "execution_count": 105,
   "metadata": {},
   "outputs": [],
   "source": [
    "index = pd.MultiIndex.from_tuples(list_of_tuples_for_multiindex, names=['Country', 'Date'])"
   ]
  },
  {
   "cell_type": "code",
   "execution_count": 106,
   "metadata": {},
   "outputs": [
    {
     "data": {
      "text/html": [
       "<div>\n",
       "<style scoped>\n",
       "    .dataframe tbody tr th:only-of-type {\n",
       "        vertical-align: middle;\n",
       "    }\n",
       "\n",
       "    .dataframe tbody tr th {\n",
       "        vertical-align: top;\n",
       "    }\n",
       "\n",
       "    .dataframe thead th {\n",
       "        text-align: right;\n",
       "    }\n",
       "</style>\n",
       "<table border=\"1\" class=\"dataframe\">\n",
       "  <thead>\n",
       "    <tr style=\"text-align: right;\">\n",
       "      <th></th>\n",
       "      <th></th>\n",
       "    </tr>\n",
       "    <tr>\n",
       "      <th>Country</th>\n",
       "      <th>Date</th>\n",
       "    </tr>\n",
       "  </thead>\n",
       "  <tbody>\n",
       "    <tr>\n",
       "      <th rowspan=\"5\" valign=\"top\">Afghanistan</th>\n",
       "      <th>2020-01-01</th>\n",
       "    </tr>\n",
       "    <tr>\n",
       "      <th>2020-01-02</th>\n",
       "    </tr>\n",
       "    <tr>\n",
       "      <th>2020-01-03</th>\n",
       "    </tr>\n",
       "    <tr>\n",
       "      <th>2020-01-04</th>\n",
       "    </tr>\n",
       "    <tr>\n",
       "      <th>2020-01-05</th>\n",
       "    </tr>\n",
       "  </tbody>\n",
       "</table>\n",
       "</div>"
      ],
      "text/plain": [
       "Empty DataFrame\n",
       "Columns: []\n",
       "Index: [(Afghanistan, 2020-01-01 00:00:00), (Afghanistan, 2020-01-02 00:00:00), (Afghanistan, 2020-01-03 00:00:00), (Afghanistan, 2020-01-04 00:00:00), (Afghanistan, 2020-01-05 00:00:00)]"
      ]
     },
     "execution_count": 106,
     "metadata": {},
     "output_type": "execute_result"
    }
   ],
   "source": [
    "df_features = pd.DataFrame(index=index)\n",
    "df_features.head()"
   ]
  },
  {
   "cell_type": "code",
   "execution_count": 107,
   "metadata": {},
   "outputs": [
    {
     "name": "stdout",
     "output_type": "stream",
     "text": [
      "<class 'pandas.core.frame.DataFrame'>\n",
      "MultiIndex: 16074 entries, ('Afghanistan', Timestamp('2020-01-01 00:00:00')) to ('Zambia', Timestamp('2020-04-23 00:00:00'))\n",
      "Empty DataFrame"
     ]
    }
   ],
   "source": [
    "df_features.info()"
   ]
  },
  {
   "cell_type": "markdown",
   "metadata": {},
   "source": [
    "https://stackoverflow.com/questions/52785579/pandas-dataframe-multiindex-merge"
   ]
  },
  {
   "cell_type": "markdown",
   "metadata": {},
   "source": [
    "### Feature 1\n",
    "Sum of number of days since feature implemented over all features implemented"
   ]
  },
  {
   "cell_type": "code",
   "execution_count": 142,
   "metadata": {},
   "outputs": [
    {
     "data": {
      "text/plain": [
       "0   2020-02-12\n",
       "1   2020-02-12\n",
       "2   2020-02-12\n",
       "3   2020-02-12\n",
       "4   2020-03-12\n",
       "Name: DATE_IMPLEMENTED, dtype: datetime64[ns]"
      ]
     },
     "execution_count": 142,
     "metadata": {},
     "output_type": "execute_result"
    }
   ],
   "source": [
    "df_countries_renamed['DATE_IMPLEMENTED'].head()"
   ]
  },
  {
   "cell_type": "code",
   "execution_count": 145,
   "metadata": {},
   "outputs": [
    {
     "data": {
      "text/plain": [
       "0   2020-02-19\n",
       "1   2020-02-19\n",
       "2   2020-02-19\n",
       "3   2020-02-19\n",
       "4   2020-03-19\n",
       "Name: 7_DAY_LAG, dtype: datetime64[ns]"
      ]
     },
     "execution_count": 145,
     "metadata": {},
     "output_type": "execute_result"
    }
   ],
   "source": [
    "df_countries_renamed['7_DAY_LAG'] = df_countries_renamed['DATE_IMPLEMENTED'] + np.timedelta64(7,'D')\n",
    "df_countries_renamed['7_DAY_LAG'].head()"
   ]
  },
  {
   "cell_type": "code",
   "execution_count": 146,
   "metadata": {},
   "outputs": [
    {
     "data": {
      "text/plain": [
       "COUNTRY      7_DAY_LAG \n",
       "Afghanistan  2020-02-08    1\n",
       "             2020-02-19    4\n",
       "             2020-03-02    1\n",
       "             2020-03-08    4\n",
       "             2020-03-19    1\n",
       "                          ..\n",
       "Venezuela    2020-03-22    4\n",
       "             2020-03-23    2\n",
       "Vietnam      2020-03-09    1\n",
       "             2020-03-22    4\n",
       "Zambia       2020-03-02    1\n",
       "Name: ID, Length: 402, dtype: int64"
      ]
     },
     "execution_count": 146,
     "metadata": {},
     "output_type": "execute_result"
    }
   ],
   "source": [
    "df_event_count = df_countries_renamed.groupby(['COUNTRY', '7_DAY_LAG'])['ID'].count()\n",
    "df_event_count"
   ]
  },
  {
   "cell_type": "code",
   "execution_count": 179,
   "metadata": {},
   "outputs": [
    {
     "data": {
      "text/html": [
       "<div>\n",
       "<style scoped>\n",
       "    .dataframe tbody tr th:only-of-type {\n",
       "        vertical-align: middle;\n",
       "    }\n",
       "\n",
       "    .dataframe tbody tr th {\n",
       "        vertical-align: top;\n",
       "    }\n",
       "\n",
       "    .dataframe thead th {\n",
       "        text-align: right;\n",
       "    }\n",
       "</style>\n",
       "<table border=\"1\" class=\"dataframe\">\n",
       "  <thead>\n",
       "    <tr style=\"text-align: right;\">\n",
       "      <th></th>\n",
       "      <th></th>\n",
       "      <th>ID</th>\n",
       "    </tr>\n",
       "    <tr>\n",
       "      <th>COUNTRY</th>\n",
       "      <th>7_DAY_LAG</th>\n",
       "      <th></th>\n",
       "    </tr>\n",
       "  </thead>\n",
       "  <tbody>\n",
       "    <tr>\n",
       "      <th rowspan=\"5\" valign=\"top\">Afghanistan</th>\n",
       "      <th>2020-01-01</th>\n",
       "      <td>NaN</td>\n",
       "    </tr>\n",
       "    <tr>\n",
       "      <th>2020-01-02</th>\n",
       "      <td>NaN</td>\n",
       "    </tr>\n",
       "    <tr>\n",
       "      <th>2020-01-03</th>\n",
       "      <td>NaN</td>\n",
       "    </tr>\n",
       "    <tr>\n",
       "      <th>2020-01-04</th>\n",
       "      <td>NaN</td>\n",
       "    </tr>\n",
       "    <tr>\n",
       "      <th>2020-01-05</th>\n",
       "      <td>NaN</td>\n",
       "    </tr>\n",
       "  </tbody>\n",
       "</table>\n",
       "</div>"
      ],
      "text/plain": [
       "                        ID\n",
       "COUNTRY     7_DAY_LAG     \n",
       "Afghanistan 2020-01-01 NaN\n",
       "            2020-01-02 NaN\n",
       "            2020-01-03 NaN\n",
       "            2020-01-04 NaN\n",
       "            2020-01-05 NaN"
      ]
     },
     "execution_count": 179,
     "metadata": {},
     "output_type": "execute_result"
    }
   ],
   "source": [
    "df_f1 = df_features.merge(df_event_count,\n",
    "                          how='left',\n",
    "                          left_index=True,\n",
    "                          right_on=['COUNTRY', '7_DAY_LAG'])\n",
    "df_f1.head()"
   ]
  },
  {
   "cell_type": "code",
   "execution_count": 180,
   "metadata": {},
   "outputs": [
    {
     "data": {
      "text/plain": [
       "(16074, 1)"
      ]
     },
     "execution_count": 180,
     "metadata": {},
     "output_type": "execute_result"
    }
   ],
   "source": [
    "df_f1.shape"
   ]
  },
  {
   "cell_type": "code",
   "execution_count": 181,
   "metadata": {},
   "outputs": [
    {
     "data": {
      "text/html": [
       "<div>\n",
       "<style scoped>\n",
       "    .dataframe tbody tr th:only-of-type {\n",
       "        vertical-align: middle;\n",
       "    }\n",
       "\n",
       "    .dataframe tbody tr th {\n",
       "        vertical-align: top;\n",
       "    }\n",
       "\n",
       "    .dataframe thead th {\n",
       "        text-align: right;\n",
       "    }\n",
       "</style>\n",
       "<table border=\"1\" class=\"dataframe\">\n",
       "  <thead>\n",
       "    <tr style=\"text-align: right;\">\n",
       "      <th></th>\n",
       "      <th></th>\n",
       "      <th>count_events_7_days_ago</th>\n",
       "    </tr>\n",
       "    <tr>\n",
       "      <th>COUNTRY</th>\n",
       "      <th>7_DAY_LAG</th>\n",
       "      <th></th>\n",
       "    </tr>\n",
       "  </thead>\n",
       "  <tbody>\n",
       "    <tr>\n",
       "      <th rowspan=\"5\" valign=\"top\">Afghanistan</th>\n",
       "      <th>2020-01-01</th>\n",
       "      <td>NaN</td>\n",
       "    </tr>\n",
       "    <tr>\n",
       "      <th>2020-01-02</th>\n",
       "      <td>NaN</td>\n",
       "    </tr>\n",
       "    <tr>\n",
       "      <th>2020-01-03</th>\n",
       "      <td>NaN</td>\n",
       "    </tr>\n",
       "    <tr>\n",
       "      <th>2020-01-04</th>\n",
       "      <td>NaN</td>\n",
       "    </tr>\n",
       "    <tr>\n",
       "      <th>2020-01-05</th>\n",
       "      <td>NaN</td>\n",
       "    </tr>\n",
       "  </tbody>\n",
       "</table>\n",
       "</div>"
      ],
      "text/plain": [
       "                        count_events_7_days_ago\n",
       "COUNTRY     7_DAY_LAG                          \n",
       "Afghanistan 2020-01-01                      NaN\n",
       "            2020-01-02                      NaN\n",
       "            2020-01-03                      NaN\n",
       "            2020-01-04                      NaN\n",
       "            2020-01-05                      NaN"
      ]
     },
     "execution_count": 181,
     "metadata": {},
     "output_type": "execute_result"
    }
   ],
   "source": [
    "df_f1.rename(columns={'ID':'count_events_7_days_ago'}, inplace=True)\n",
    "df_f1.head()"
   ]
  },
  {
   "cell_type": "code",
   "execution_count": 182,
   "metadata": {},
   "outputs": [
    {
     "data": {
      "text/plain": [
       "402"
      ]
     },
     "execution_count": 182,
     "metadata": {},
     "output_type": "execute_result"
    }
   ],
   "source": [
    "df_f1['count_events_7_days_ago'].notnull().sum()"
   ]
  },
  {
   "cell_type": "code",
   "execution_count": 183,
   "metadata": {},
   "outputs": [
    {
     "data": {
      "text/plain": [
       "689.0"
      ]
     },
     "execution_count": 183,
     "metadata": {},
     "output_type": "execute_result"
    }
   ],
   "source": [
    "df_f1['count_events_7_days_ago'].sum()"
   ]
  },
  {
   "cell_type": "code",
   "execution_count": 184,
   "metadata": {},
   "outputs": [
    {
     "data": {
      "text/html": [
       "<div>\n",
       "<style scoped>\n",
       "    .dataframe tbody tr th:only-of-type {\n",
       "        vertical-align: middle;\n",
       "    }\n",
       "\n",
       "    .dataframe tbody tr th {\n",
       "        vertical-align: top;\n",
       "    }\n",
       "\n",
       "    .dataframe thead th {\n",
       "        text-align: right;\n",
       "    }\n",
       "</style>\n",
       "<table border=\"1\" class=\"dataframe\">\n",
       "  <thead>\n",
       "    <tr style=\"text-align: right;\">\n",
       "      <th></th>\n",
       "      <th></th>\n",
       "      <th>count_events_7_days_ago</th>\n",
       "    </tr>\n",
       "    <tr>\n",
       "      <th>COUNTRY</th>\n",
       "      <th>7_DAY_LAG</th>\n",
       "      <th></th>\n",
       "    </tr>\n",
       "  </thead>\n",
       "  <tbody>\n",
       "    <tr>\n",
       "      <th rowspan=\"5\" valign=\"top\">Afghanistan</th>\n",
       "      <th>2020-01-01</th>\n",
       "      <td>0.0</td>\n",
       "    </tr>\n",
       "    <tr>\n",
       "      <th>2020-01-02</th>\n",
       "      <td>0.0</td>\n",
       "    </tr>\n",
       "    <tr>\n",
       "      <th>2020-01-03</th>\n",
       "      <td>0.0</td>\n",
       "    </tr>\n",
       "    <tr>\n",
       "      <th>2020-01-04</th>\n",
       "      <td>0.0</td>\n",
       "    </tr>\n",
       "    <tr>\n",
       "      <th>2020-01-05</th>\n",
       "      <td>0.0</td>\n",
       "    </tr>\n",
       "  </tbody>\n",
       "</table>\n",
       "</div>"
      ],
      "text/plain": [
       "                        count_events_7_days_ago\n",
       "COUNTRY     7_DAY_LAG                          \n",
       "Afghanistan 2020-01-01                      0.0\n",
       "            2020-01-02                      0.0\n",
       "            2020-01-03                      0.0\n",
       "            2020-01-04                      0.0\n",
       "            2020-01-05                      0.0"
      ]
     },
     "execution_count": 184,
     "metadata": {},
     "output_type": "execute_result"
    }
   ],
   "source": [
    "df_f1['count_events_7_days_ago'].fillna(0, inplace=True)\n",
    "df_f1.head()"
   ]
  },
  {
   "cell_type": "code",
   "execution_count": 185,
   "metadata": {},
   "outputs": [],
   "source": [
    "df_f1['cumsum_all_events'] = 0"
   ]
  },
  {
   "cell_type": "code",
   "execution_count": 186,
   "metadata": {},
   "outputs": [
    {
     "data": {
      "text/plain": [
       "7_DAY_LAG\n",
       "2020-01-01     0.0\n",
       "2020-01-02     0.0\n",
       "2020-01-03     0.0\n",
       "2020-01-04     0.0\n",
       "2020-01-05     0.0\n",
       "              ... \n",
       "2020-04-19    11.0\n",
       "2020-04-20    11.0\n",
       "2020-04-21    11.0\n",
       "2020-04-22    11.0\n",
       "2020-04-23    11.0\n",
       "Name: count_events_7_days_ago, Length: 114, dtype: float64"
      ]
     },
     "execution_count": 186,
     "metadata": {},
     "output_type": "execute_result"
    }
   ],
   "source": [
    "df_f1.loc['Afghanistan','count_events_7_days_ago'].cumsum()"
   ]
  },
  {
   "cell_type": "code",
   "execution_count": 187,
   "metadata": {},
   "outputs": [],
   "source": [
    "for country in matched_countries:\n",
    "    df_f1.loc[country,'cumsum_all_events'] = df_f1.loc[country,'count_events_7_days_ago'].cumsum().values.tolist()"
   ]
  },
  {
   "cell_type": "code",
   "execution_count": 188,
   "metadata": {},
   "outputs": [
    {
     "data": {
      "text/html": [
       "<div>\n",
       "<style scoped>\n",
       "    .dataframe tbody tr th:only-of-type {\n",
       "        vertical-align: middle;\n",
       "    }\n",
       "\n",
       "    .dataframe tbody tr th {\n",
       "        vertical-align: top;\n",
       "    }\n",
       "\n",
       "    .dataframe thead th {\n",
       "        text-align: right;\n",
       "    }\n",
       "</style>\n",
       "<table border=\"1\" class=\"dataframe\">\n",
       "  <thead>\n",
       "    <tr style=\"text-align: right;\">\n",
       "      <th></th>\n",
       "      <th></th>\n",
       "      <th>count_events_7_days_ago</th>\n",
       "      <th>cumsum_all_events</th>\n",
       "    </tr>\n",
       "    <tr>\n",
       "      <th>COUNTRY</th>\n",
       "      <th>7_DAY_LAG</th>\n",
       "      <th></th>\n",
       "      <th></th>\n",
       "    </tr>\n",
       "  </thead>\n",
       "  <tbody>\n",
       "    <tr>\n",
       "      <th rowspan=\"5\" valign=\"top\">Afghanistan</th>\n",
       "      <th>2020-01-01</th>\n",
       "      <td>0.0</td>\n",
       "      <td>0.0</td>\n",
       "    </tr>\n",
       "    <tr>\n",
       "      <th>2020-01-02</th>\n",
       "      <td>0.0</td>\n",
       "      <td>0.0</td>\n",
       "    </tr>\n",
       "    <tr>\n",
       "      <th>2020-01-03</th>\n",
       "      <td>0.0</td>\n",
       "      <td>0.0</td>\n",
       "    </tr>\n",
       "    <tr>\n",
       "      <th>2020-01-04</th>\n",
       "      <td>0.0</td>\n",
       "      <td>0.0</td>\n",
       "    </tr>\n",
       "    <tr>\n",
       "      <th>2020-01-05</th>\n",
       "      <td>0.0</td>\n",
       "      <td>0.0</td>\n",
       "    </tr>\n",
       "  </tbody>\n",
       "</table>\n",
       "</div>"
      ],
      "text/plain": [
       "                        count_events_7_days_ago  cumsum_all_events\n",
       "COUNTRY     7_DAY_LAG                                             \n",
       "Afghanistan 2020-01-01                      0.0                0.0\n",
       "            2020-01-02                      0.0                0.0\n",
       "            2020-01-03                      0.0                0.0\n",
       "            2020-01-04                      0.0                0.0\n",
       "            2020-01-05                      0.0                0.0"
      ]
     },
     "execution_count": 188,
     "metadata": {},
     "output_type": "execute_result"
    }
   ],
   "source": [
    "df_f1.head()"
   ]
  },
  {
   "cell_type": "code",
   "execution_count": 189,
   "metadata": {},
   "outputs": [
    {
     "data": {
      "text/html": [
       "<div>\n",
       "<style scoped>\n",
       "    .dataframe tbody tr th:only-of-type {\n",
       "        vertical-align: middle;\n",
       "    }\n",
       "\n",
       "    .dataframe tbody tr th {\n",
       "        vertical-align: top;\n",
       "    }\n",
       "\n",
       "    .dataframe thead th {\n",
       "        text-align: right;\n",
       "    }\n",
       "</style>\n",
       "<table border=\"1\" class=\"dataframe\">\n",
       "  <thead>\n",
       "    <tr style=\"text-align: right;\">\n",
       "      <th></th>\n",
       "      <th>count_events_7_days_ago</th>\n",
       "      <th>cumsum_all_events</th>\n",
       "    </tr>\n",
       "    <tr>\n",
       "      <th>7_DAY_LAG</th>\n",
       "      <th></th>\n",
       "      <th></th>\n",
       "    </tr>\n",
       "  </thead>\n",
       "  <tbody>\n",
       "    <tr>\n",
       "      <th>2020-01-01</th>\n",
       "      <td>0.0</td>\n",
       "      <td>0.0</td>\n",
       "    </tr>\n",
       "    <tr>\n",
       "      <th>2020-01-02</th>\n",
       "      <td>0.0</td>\n",
       "      <td>0.0</td>\n",
       "    </tr>\n",
       "    <tr>\n",
       "      <th>2020-01-03</th>\n",
       "      <td>0.0</td>\n",
       "      <td>0.0</td>\n",
       "    </tr>\n",
       "    <tr>\n",
       "      <th>2020-01-04</th>\n",
       "      <td>0.0</td>\n",
       "      <td>0.0</td>\n",
       "    </tr>\n",
       "    <tr>\n",
       "      <th>2020-01-05</th>\n",
       "      <td>0.0</td>\n",
       "      <td>0.0</td>\n",
       "    </tr>\n",
       "    <tr>\n",
       "      <th>...</th>\n",
       "      <td>...</td>\n",
       "      <td>...</td>\n",
       "    </tr>\n",
       "    <tr>\n",
       "      <th>2020-04-19</th>\n",
       "      <td>0.0</td>\n",
       "      <td>11.0</td>\n",
       "    </tr>\n",
       "    <tr>\n",
       "      <th>2020-04-20</th>\n",
       "      <td>0.0</td>\n",
       "      <td>11.0</td>\n",
       "    </tr>\n",
       "    <tr>\n",
       "      <th>2020-04-21</th>\n",
       "      <td>0.0</td>\n",
       "      <td>11.0</td>\n",
       "    </tr>\n",
       "    <tr>\n",
       "      <th>2020-04-22</th>\n",
       "      <td>0.0</td>\n",
       "      <td>11.0</td>\n",
       "    </tr>\n",
       "    <tr>\n",
       "      <th>2020-04-23</th>\n",
       "      <td>0.0</td>\n",
       "      <td>11.0</td>\n",
       "    </tr>\n",
       "  </tbody>\n",
       "</table>\n",
       "<p>114 rows × 2 columns</p>\n",
       "</div>"
      ],
      "text/plain": [
       "            count_events_7_days_ago  cumsum_all_events\n",
       "7_DAY_LAG                                             \n",
       "2020-01-01                      0.0                0.0\n",
       "2020-01-02                      0.0                0.0\n",
       "2020-01-03                      0.0                0.0\n",
       "2020-01-04                      0.0                0.0\n",
       "2020-01-05                      0.0                0.0\n",
       "...                             ...                ...\n",
       "2020-04-19                      0.0               11.0\n",
       "2020-04-20                      0.0               11.0\n",
       "2020-04-21                      0.0               11.0\n",
       "2020-04-22                      0.0               11.0\n",
       "2020-04-23                      0.0               11.0\n",
       "\n",
       "[114 rows x 2 columns]"
      ]
     },
     "execution_count": 189,
     "metadata": {},
     "output_type": "execute_result"
    }
   ],
   "source": [
    "df_f1.loc['Afghanistan',:]"
   ]
  },
  {
   "cell_type": "code",
   "execution_count": 191,
   "metadata": {},
   "outputs": [],
   "source": [
    "pd.set_option('display.max_rows', 150)"
   ]
  },
  {
   "cell_type": "code",
   "execution_count": 192,
   "metadata": {},
   "outputs": [
    {
     "data": {
      "text/html": [
       "<div>\n",
       "<style scoped>\n",
       "    .dataframe tbody tr th:only-of-type {\n",
       "        vertical-align: middle;\n",
       "    }\n",
       "\n",
       "    .dataframe tbody tr th {\n",
       "        vertical-align: top;\n",
       "    }\n",
       "\n",
       "    .dataframe thead th {\n",
       "        text-align: right;\n",
       "    }\n",
       "</style>\n",
       "<table border=\"1\" class=\"dataframe\">\n",
       "  <thead>\n",
       "    <tr style=\"text-align: right;\">\n",
       "      <th></th>\n",
       "      <th>count_events_7_days_ago</th>\n",
       "      <th>cumsum_all_events</th>\n",
       "    </tr>\n",
       "    <tr>\n",
       "      <th>7_DAY_LAG</th>\n",
       "      <th></th>\n",
       "      <th></th>\n",
       "    </tr>\n",
       "  </thead>\n",
       "  <tbody>\n",
       "    <tr>\n",
       "      <th>2020-01-01</th>\n",
       "      <td>0.0</td>\n",
       "      <td>0.0</td>\n",
       "    </tr>\n",
       "    <tr>\n",
       "      <th>2020-01-02</th>\n",
       "      <td>0.0</td>\n",
       "      <td>0.0</td>\n",
       "    </tr>\n",
       "    <tr>\n",
       "      <th>2020-01-03</th>\n",
       "      <td>0.0</td>\n",
       "      <td>0.0</td>\n",
       "    </tr>\n",
       "    <tr>\n",
       "      <th>2020-01-04</th>\n",
       "      <td>0.0</td>\n",
       "      <td>0.0</td>\n",
       "    </tr>\n",
       "    <tr>\n",
       "      <th>2020-01-05</th>\n",
       "      <td>0.0</td>\n",
       "      <td>0.0</td>\n",
       "    </tr>\n",
       "    <tr>\n",
       "      <th>2020-01-06</th>\n",
       "      <td>0.0</td>\n",
       "      <td>0.0</td>\n",
       "    </tr>\n",
       "    <tr>\n",
       "      <th>2020-01-07</th>\n",
       "      <td>0.0</td>\n",
       "      <td>0.0</td>\n",
       "    </tr>\n",
       "    <tr>\n",
       "      <th>2020-01-08</th>\n",
       "      <td>0.0</td>\n",
       "      <td>0.0</td>\n",
       "    </tr>\n",
       "    <tr>\n",
       "      <th>2020-01-09</th>\n",
       "      <td>0.0</td>\n",
       "      <td>0.0</td>\n",
       "    </tr>\n",
       "    <tr>\n",
       "      <th>2020-01-10</th>\n",
       "      <td>0.0</td>\n",
       "      <td>0.0</td>\n",
       "    </tr>\n",
       "    <tr>\n",
       "      <th>2020-01-11</th>\n",
       "      <td>0.0</td>\n",
       "      <td>0.0</td>\n",
       "    </tr>\n",
       "    <tr>\n",
       "      <th>2020-01-12</th>\n",
       "      <td>0.0</td>\n",
       "      <td>0.0</td>\n",
       "    </tr>\n",
       "    <tr>\n",
       "      <th>2020-01-13</th>\n",
       "      <td>0.0</td>\n",
       "      <td>0.0</td>\n",
       "    </tr>\n",
       "    <tr>\n",
       "      <th>2020-01-14</th>\n",
       "      <td>0.0</td>\n",
       "      <td>0.0</td>\n",
       "    </tr>\n",
       "    <tr>\n",
       "      <th>2020-01-15</th>\n",
       "      <td>0.0</td>\n",
       "      <td>0.0</td>\n",
       "    </tr>\n",
       "    <tr>\n",
       "      <th>2020-01-16</th>\n",
       "      <td>0.0</td>\n",
       "      <td>0.0</td>\n",
       "    </tr>\n",
       "    <tr>\n",
       "      <th>2020-01-17</th>\n",
       "      <td>0.0</td>\n",
       "      <td>0.0</td>\n",
       "    </tr>\n",
       "    <tr>\n",
       "      <th>2020-01-18</th>\n",
       "      <td>0.0</td>\n",
       "      <td>0.0</td>\n",
       "    </tr>\n",
       "    <tr>\n",
       "      <th>2020-01-19</th>\n",
       "      <td>0.0</td>\n",
       "      <td>0.0</td>\n",
       "    </tr>\n",
       "    <tr>\n",
       "      <th>2020-01-20</th>\n",
       "      <td>0.0</td>\n",
       "      <td>0.0</td>\n",
       "    </tr>\n",
       "    <tr>\n",
       "      <th>2020-01-21</th>\n",
       "      <td>0.0</td>\n",
       "      <td>0.0</td>\n",
       "    </tr>\n",
       "    <tr>\n",
       "      <th>2020-01-22</th>\n",
       "      <td>0.0</td>\n",
       "      <td>0.0</td>\n",
       "    </tr>\n",
       "    <tr>\n",
       "      <th>2020-01-23</th>\n",
       "      <td>0.0</td>\n",
       "      <td>0.0</td>\n",
       "    </tr>\n",
       "    <tr>\n",
       "      <th>2020-01-24</th>\n",
       "      <td>0.0</td>\n",
       "      <td>0.0</td>\n",
       "    </tr>\n",
       "    <tr>\n",
       "      <th>2020-01-25</th>\n",
       "      <td>0.0</td>\n",
       "      <td>0.0</td>\n",
       "    </tr>\n",
       "    <tr>\n",
       "      <th>2020-01-26</th>\n",
       "      <td>0.0</td>\n",
       "      <td>0.0</td>\n",
       "    </tr>\n",
       "    <tr>\n",
       "      <th>2020-01-27</th>\n",
       "      <td>1.0</td>\n",
       "      <td>1.0</td>\n",
       "    </tr>\n",
       "    <tr>\n",
       "      <th>2020-01-28</th>\n",
       "      <td>0.0</td>\n",
       "      <td>1.0</td>\n",
       "    </tr>\n",
       "    <tr>\n",
       "      <th>2020-01-29</th>\n",
       "      <td>0.0</td>\n",
       "      <td>1.0</td>\n",
       "    </tr>\n",
       "    <tr>\n",
       "      <th>2020-01-30</th>\n",
       "      <td>0.0</td>\n",
       "      <td>1.0</td>\n",
       "    </tr>\n",
       "    <tr>\n",
       "      <th>2020-01-31</th>\n",
       "      <td>0.0</td>\n",
       "      <td>1.0</td>\n",
       "    </tr>\n",
       "    <tr>\n",
       "      <th>2020-02-01</th>\n",
       "      <td>1.0</td>\n",
       "      <td>2.0</td>\n",
       "    </tr>\n",
       "    <tr>\n",
       "      <th>2020-02-02</th>\n",
       "      <td>1.0</td>\n",
       "      <td>3.0</td>\n",
       "    </tr>\n",
       "    <tr>\n",
       "      <th>2020-02-03</th>\n",
       "      <td>1.0</td>\n",
       "      <td>4.0</td>\n",
       "    </tr>\n",
       "    <tr>\n",
       "      <th>2020-02-04</th>\n",
       "      <td>0.0</td>\n",
       "      <td>4.0</td>\n",
       "    </tr>\n",
       "    <tr>\n",
       "      <th>2020-02-05</th>\n",
       "      <td>1.0</td>\n",
       "      <td>5.0</td>\n",
       "    </tr>\n",
       "    <tr>\n",
       "      <th>2020-02-06</th>\n",
       "      <td>0.0</td>\n",
       "      <td>5.0</td>\n",
       "    </tr>\n",
       "    <tr>\n",
       "      <th>2020-02-07</th>\n",
       "      <td>0.0</td>\n",
       "      <td>5.0</td>\n",
       "    </tr>\n",
       "    <tr>\n",
       "      <th>2020-02-08</th>\n",
       "      <td>0.0</td>\n",
       "      <td>5.0</td>\n",
       "    </tr>\n",
       "    <tr>\n",
       "      <th>2020-02-09</th>\n",
       "      <td>0.0</td>\n",
       "      <td>5.0</td>\n",
       "    </tr>\n",
       "    <tr>\n",
       "      <th>2020-02-10</th>\n",
       "      <td>0.0</td>\n",
       "      <td>5.0</td>\n",
       "    </tr>\n",
       "    <tr>\n",
       "      <th>2020-02-11</th>\n",
       "      <td>0.0</td>\n",
       "      <td>5.0</td>\n",
       "    </tr>\n",
       "    <tr>\n",
       "      <th>2020-02-12</th>\n",
       "      <td>0.0</td>\n",
       "      <td>5.0</td>\n",
       "    </tr>\n",
       "    <tr>\n",
       "      <th>2020-02-13</th>\n",
       "      <td>0.0</td>\n",
       "      <td>5.0</td>\n",
       "    </tr>\n",
       "    <tr>\n",
       "      <th>2020-02-14</th>\n",
       "      <td>0.0</td>\n",
       "      <td>5.0</td>\n",
       "    </tr>\n",
       "    <tr>\n",
       "      <th>2020-02-15</th>\n",
       "      <td>2.0</td>\n",
       "      <td>7.0</td>\n",
       "    </tr>\n",
       "    <tr>\n",
       "      <th>2020-02-16</th>\n",
       "      <td>1.0</td>\n",
       "      <td>8.0</td>\n",
       "    </tr>\n",
       "    <tr>\n",
       "      <th>2020-02-17</th>\n",
       "      <td>0.0</td>\n",
       "      <td>8.0</td>\n",
       "    </tr>\n",
       "    <tr>\n",
       "      <th>2020-02-18</th>\n",
       "      <td>0.0</td>\n",
       "      <td>8.0</td>\n",
       "    </tr>\n",
       "    <tr>\n",
       "      <th>2020-02-19</th>\n",
       "      <td>1.0</td>\n",
       "      <td>9.0</td>\n",
       "    </tr>\n",
       "    <tr>\n",
       "      <th>2020-02-20</th>\n",
       "      <td>0.0</td>\n",
       "      <td>9.0</td>\n",
       "    </tr>\n",
       "    <tr>\n",
       "      <th>2020-02-21</th>\n",
       "      <td>0.0</td>\n",
       "      <td>9.0</td>\n",
       "    </tr>\n",
       "    <tr>\n",
       "      <th>2020-02-22</th>\n",
       "      <td>0.0</td>\n",
       "      <td>9.0</td>\n",
       "    </tr>\n",
       "    <tr>\n",
       "      <th>2020-02-23</th>\n",
       "      <td>0.0</td>\n",
       "      <td>9.0</td>\n",
       "    </tr>\n",
       "    <tr>\n",
       "      <th>2020-02-24</th>\n",
       "      <td>0.0</td>\n",
       "      <td>9.0</td>\n",
       "    </tr>\n",
       "    <tr>\n",
       "      <th>2020-02-25</th>\n",
       "      <td>0.0</td>\n",
       "      <td>9.0</td>\n",
       "    </tr>\n",
       "    <tr>\n",
       "      <th>2020-02-26</th>\n",
       "      <td>0.0</td>\n",
       "      <td>9.0</td>\n",
       "    </tr>\n",
       "    <tr>\n",
       "      <th>2020-02-27</th>\n",
       "      <td>0.0</td>\n",
       "      <td>9.0</td>\n",
       "    </tr>\n",
       "    <tr>\n",
       "      <th>2020-02-28</th>\n",
       "      <td>0.0</td>\n",
       "      <td>9.0</td>\n",
       "    </tr>\n",
       "    <tr>\n",
       "      <th>2020-02-29</th>\n",
       "      <td>1.0</td>\n",
       "      <td>10.0</td>\n",
       "    </tr>\n",
       "    <tr>\n",
       "      <th>2020-03-01</th>\n",
       "      <td>0.0</td>\n",
       "      <td>10.0</td>\n",
       "    </tr>\n",
       "    <tr>\n",
       "      <th>2020-03-02</th>\n",
       "      <td>0.0</td>\n",
       "      <td>10.0</td>\n",
       "    </tr>\n",
       "    <tr>\n",
       "      <th>2020-03-03</th>\n",
       "      <td>0.0</td>\n",
       "      <td>10.0</td>\n",
       "    </tr>\n",
       "    <tr>\n",
       "      <th>2020-03-04</th>\n",
       "      <td>0.0</td>\n",
       "      <td>10.0</td>\n",
       "    </tr>\n",
       "    <tr>\n",
       "      <th>2020-03-05</th>\n",
       "      <td>0.0</td>\n",
       "      <td>10.0</td>\n",
       "    </tr>\n",
       "    <tr>\n",
       "      <th>2020-03-06</th>\n",
       "      <td>0.0</td>\n",
       "      <td>10.0</td>\n",
       "    </tr>\n",
       "    <tr>\n",
       "      <th>2020-03-07</th>\n",
       "      <td>1.0</td>\n",
       "      <td>11.0</td>\n",
       "    </tr>\n",
       "    <tr>\n",
       "      <th>2020-03-08</th>\n",
       "      <td>0.0</td>\n",
       "      <td>11.0</td>\n",
       "    </tr>\n",
       "    <tr>\n",
       "      <th>2020-03-09</th>\n",
       "      <td>0.0</td>\n",
       "      <td>11.0</td>\n",
       "    </tr>\n",
       "    <tr>\n",
       "      <th>2020-03-10</th>\n",
       "      <td>0.0</td>\n",
       "      <td>11.0</td>\n",
       "    </tr>\n",
       "    <tr>\n",
       "      <th>2020-03-11</th>\n",
       "      <td>0.0</td>\n",
       "      <td>11.0</td>\n",
       "    </tr>\n",
       "    <tr>\n",
       "      <th>2020-03-12</th>\n",
       "      <td>0.0</td>\n",
       "      <td>11.0</td>\n",
       "    </tr>\n",
       "    <tr>\n",
       "      <th>2020-03-13</th>\n",
       "      <td>0.0</td>\n",
       "      <td>11.0</td>\n",
       "    </tr>\n",
       "    <tr>\n",
       "      <th>2020-03-14</th>\n",
       "      <td>0.0</td>\n",
       "      <td>11.0</td>\n",
       "    </tr>\n",
       "    <tr>\n",
       "      <th>2020-03-15</th>\n",
       "      <td>0.0</td>\n",
       "      <td>11.0</td>\n",
       "    </tr>\n",
       "    <tr>\n",
       "      <th>2020-03-16</th>\n",
       "      <td>0.0</td>\n",
       "      <td>11.0</td>\n",
       "    </tr>\n",
       "    <tr>\n",
       "      <th>2020-03-17</th>\n",
       "      <td>0.0</td>\n",
       "      <td>11.0</td>\n",
       "    </tr>\n",
       "    <tr>\n",
       "      <th>2020-03-18</th>\n",
       "      <td>0.0</td>\n",
       "      <td>11.0</td>\n",
       "    </tr>\n",
       "    <tr>\n",
       "      <th>2020-03-19</th>\n",
       "      <td>0.0</td>\n",
       "      <td>11.0</td>\n",
       "    </tr>\n",
       "    <tr>\n",
       "      <th>2020-03-20</th>\n",
       "      <td>1.0</td>\n",
       "      <td>12.0</td>\n",
       "    </tr>\n",
       "    <tr>\n",
       "      <th>2020-03-21</th>\n",
       "      <td>3.0</td>\n",
       "      <td>15.0</td>\n",
       "    </tr>\n",
       "    <tr>\n",
       "      <th>2020-03-22</th>\n",
       "      <td>0.0</td>\n",
       "      <td>15.0</td>\n",
       "    </tr>\n",
       "    <tr>\n",
       "      <th>2020-03-23</th>\n",
       "      <td>1.0</td>\n",
       "      <td>16.0</td>\n",
       "    </tr>\n",
       "    <tr>\n",
       "      <th>2020-03-24</th>\n",
       "      <td>0.0</td>\n",
       "      <td>16.0</td>\n",
       "    </tr>\n",
       "    <tr>\n",
       "      <th>2020-03-25</th>\n",
       "      <td>0.0</td>\n",
       "      <td>16.0</td>\n",
       "    </tr>\n",
       "    <tr>\n",
       "      <th>2020-03-26</th>\n",
       "      <td>1.0</td>\n",
       "      <td>17.0</td>\n",
       "    </tr>\n",
       "    <tr>\n",
       "      <th>2020-03-27</th>\n",
       "      <td>0.0</td>\n",
       "      <td>17.0</td>\n",
       "    </tr>\n",
       "    <tr>\n",
       "      <th>2020-03-28</th>\n",
       "      <td>0.0</td>\n",
       "      <td>17.0</td>\n",
       "    </tr>\n",
       "    <tr>\n",
       "      <th>2020-03-29</th>\n",
       "      <td>0.0</td>\n",
       "      <td>17.0</td>\n",
       "    </tr>\n",
       "    <tr>\n",
       "      <th>2020-03-30</th>\n",
       "      <td>0.0</td>\n",
       "      <td>17.0</td>\n",
       "    </tr>\n",
       "    <tr>\n",
       "      <th>2020-03-31</th>\n",
       "      <td>0.0</td>\n",
       "      <td>17.0</td>\n",
       "    </tr>\n",
       "    <tr>\n",
       "      <th>2020-04-01</th>\n",
       "      <td>0.0</td>\n",
       "      <td>17.0</td>\n",
       "    </tr>\n",
       "    <tr>\n",
       "      <th>2020-04-02</th>\n",
       "      <td>0.0</td>\n",
       "      <td>17.0</td>\n",
       "    </tr>\n",
       "    <tr>\n",
       "      <th>2020-04-03</th>\n",
       "      <td>0.0</td>\n",
       "      <td>17.0</td>\n",
       "    </tr>\n",
       "    <tr>\n",
       "      <th>2020-04-04</th>\n",
       "      <td>0.0</td>\n",
       "      <td>17.0</td>\n",
       "    </tr>\n",
       "    <tr>\n",
       "      <th>2020-04-05</th>\n",
       "      <td>0.0</td>\n",
       "      <td>17.0</td>\n",
       "    </tr>\n",
       "    <tr>\n",
       "      <th>2020-04-06</th>\n",
       "      <td>0.0</td>\n",
       "      <td>17.0</td>\n",
       "    </tr>\n",
       "    <tr>\n",
       "      <th>2020-04-07</th>\n",
       "      <td>0.0</td>\n",
       "      <td>17.0</td>\n",
       "    </tr>\n",
       "    <tr>\n",
       "      <th>2020-04-08</th>\n",
       "      <td>0.0</td>\n",
       "      <td>17.0</td>\n",
       "    </tr>\n",
       "    <tr>\n",
       "      <th>2020-04-09</th>\n",
       "      <td>0.0</td>\n",
       "      <td>17.0</td>\n",
       "    </tr>\n",
       "    <tr>\n",
       "      <th>2020-04-10</th>\n",
       "      <td>0.0</td>\n",
       "      <td>17.0</td>\n",
       "    </tr>\n",
       "    <tr>\n",
       "      <th>2020-04-11</th>\n",
       "      <td>0.0</td>\n",
       "      <td>17.0</td>\n",
       "    </tr>\n",
       "    <tr>\n",
       "      <th>2020-04-12</th>\n",
       "      <td>0.0</td>\n",
       "      <td>17.0</td>\n",
       "    </tr>\n",
       "    <tr>\n",
       "      <th>2020-04-13</th>\n",
       "      <td>0.0</td>\n",
       "      <td>17.0</td>\n",
       "    </tr>\n",
       "    <tr>\n",
       "      <th>2020-04-14</th>\n",
       "      <td>0.0</td>\n",
       "      <td>17.0</td>\n",
       "    </tr>\n",
       "    <tr>\n",
       "      <th>2020-04-15</th>\n",
       "      <td>0.0</td>\n",
       "      <td>17.0</td>\n",
       "    </tr>\n",
       "    <tr>\n",
       "      <th>2020-04-16</th>\n",
       "      <td>0.0</td>\n",
       "      <td>17.0</td>\n",
       "    </tr>\n",
       "    <tr>\n",
       "      <th>2020-04-17</th>\n",
       "      <td>0.0</td>\n",
       "      <td>17.0</td>\n",
       "    </tr>\n",
       "    <tr>\n",
       "      <th>2020-04-18</th>\n",
       "      <td>0.0</td>\n",
       "      <td>17.0</td>\n",
       "    </tr>\n",
       "    <tr>\n",
       "      <th>2020-04-19</th>\n",
       "      <td>0.0</td>\n",
       "      <td>17.0</td>\n",
       "    </tr>\n",
       "    <tr>\n",
       "      <th>2020-04-20</th>\n",
       "      <td>0.0</td>\n",
       "      <td>17.0</td>\n",
       "    </tr>\n",
       "    <tr>\n",
       "      <th>2020-04-21</th>\n",
       "      <td>0.0</td>\n",
       "      <td>17.0</td>\n",
       "    </tr>\n",
       "    <tr>\n",
       "      <th>2020-04-22</th>\n",
       "      <td>0.0</td>\n",
       "      <td>17.0</td>\n",
       "    </tr>\n",
       "    <tr>\n",
       "      <th>2020-04-23</th>\n",
       "      <td>0.0</td>\n",
       "      <td>17.0</td>\n",
       "    </tr>\n",
       "  </tbody>\n",
       "</table>\n",
       "</div>"
      ],
      "text/plain": [
       "            count_events_7_days_ago  cumsum_all_events\n",
       "7_DAY_LAG                                             \n",
       "2020-01-01                      0.0                0.0\n",
       "2020-01-02                      0.0                0.0\n",
       "2020-01-03                      0.0                0.0\n",
       "2020-01-04                      0.0                0.0\n",
       "2020-01-05                      0.0                0.0\n",
       "2020-01-06                      0.0                0.0\n",
       "2020-01-07                      0.0                0.0\n",
       "2020-01-08                      0.0                0.0\n",
       "2020-01-09                      0.0                0.0\n",
       "2020-01-10                      0.0                0.0\n",
       "2020-01-11                      0.0                0.0\n",
       "2020-01-12                      0.0                0.0\n",
       "2020-01-13                      0.0                0.0\n",
       "2020-01-14                      0.0                0.0\n",
       "2020-01-15                      0.0                0.0\n",
       "2020-01-16                      0.0                0.0\n",
       "2020-01-17                      0.0                0.0\n",
       "2020-01-18                      0.0                0.0\n",
       "2020-01-19                      0.0                0.0\n",
       "2020-01-20                      0.0                0.0\n",
       "2020-01-21                      0.0                0.0\n",
       "2020-01-22                      0.0                0.0\n",
       "2020-01-23                      0.0                0.0\n",
       "2020-01-24                      0.0                0.0\n",
       "2020-01-25                      0.0                0.0\n",
       "2020-01-26                      0.0                0.0\n",
       "2020-01-27                      1.0                1.0\n",
       "2020-01-28                      0.0                1.0\n",
       "2020-01-29                      0.0                1.0\n",
       "2020-01-30                      0.0                1.0\n",
       "2020-01-31                      0.0                1.0\n",
       "2020-02-01                      1.0                2.0\n",
       "2020-02-02                      1.0                3.0\n",
       "2020-02-03                      1.0                4.0\n",
       "2020-02-04                      0.0                4.0\n",
       "2020-02-05                      1.0                5.0\n",
       "2020-02-06                      0.0                5.0\n",
       "2020-02-07                      0.0                5.0\n",
       "2020-02-08                      0.0                5.0\n",
       "2020-02-09                      0.0                5.0\n",
       "2020-02-10                      0.0                5.0\n",
       "2020-02-11                      0.0                5.0\n",
       "2020-02-12                      0.0                5.0\n",
       "2020-02-13                      0.0                5.0\n",
       "2020-02-14                      0.0                5.0\n",
       "2020-02-15                      2.0                7.0\n",
       "2020-02-16                      1.0                8.0\n",
       "2020-02-17                      0.0                8.0\n",
       "2020-02-18                      0.0                8.0\n",
       "2020-02-19                      1.0                9.0\n",
       "2020-02-20                      0.0                9.0\n",
       "2020-02-21                      0.0                9.0\n",
       "2020-02-22                      0.0                9.0\n",
       "2020-02-23                      0.0                9.0\n",
       "2020-02-24                      0.0                9.0\n",
       "2020-02-25                      0.0                9.0\n",
       "2020-02-26                      0.0                9.0\n",
       "2020-02-27                      0.0                9.0\n",
       "2020-02-28                      0.0                9.0\n",
       "2020-02-29                      1.0               10.0\n",
       "2020-03-01                      0.0               10.0\n",
       "2020-03-02                      0.0               10.0\n",
       "2020-03-03                      0.0               10.0\n",
       "2020-03-04                      0.0               10.0\n",
       "2020-03-05                      0.0               10.0\n",
       "2020-03-06                      0.0               10.0\n",
       "2020-03-07                      1.0               11.0\n",
       "2020-03-08                      0.0               11.0\n",
       "2020-03-09                      0.0               11.0\n",
       "2020-03-10                      0.0               11.0\n",
       "2020-03-11                      0.0               11.0\n",
       "2020-03-12                      0.0               11.0\n",
       "2020-03-13                      0.0               11.0\n",
       "2020-03-14                      0.0               11.0\n",
       "2020-03-15                      0.0               11.0\n",
       "2020-03-16                      0.0               11.0\n",
       "2020-03-17                      0.0               11.0\n",
       "2020-03-18                      0.0               11.0\n",
       "2020-03-19                      0.0               11.0\n",
       "2020-03-20                      1.0               12.0\n",
       "2020-03-21                      3.0               15.0\n",
       "2020-03-22                      0.0               15.0\n",
       "2020-03-23                      1.0               16.0\n",
       "2020-03-24                      0.0               16.0\n",
       "2020-03-25                      0.0               16.0\n",
       "2020-03-26                      1.0               17.0\n",
       "2020-03-27                      0.0               17.0\n",
       "2020-03-28                      0.0               17.0\n",
       "2020-03-29                      0.0               17.0\n",
       "2020-03-30                      0.0               17.0\n",
       "2020-03-31                      0.0               17.0\n",
       "2020-04-01                      0.0               17.0\n",
       "2020-04-02                      0.0               17.0\n",
       "2020-04-03                      0.0               17.0\n",
       "2020-04-04                      0.0               17.0\n",
       "2020-04-05                      0.0               17.0\n",
       "2020-04-06                      0.0               17.0\n",
       "2020-04-07                      0.0               17.0\n",
       "2020-04-08                      0.0               17.0\n",
       "2020-04-09                      0.0               17.0\n",
       "2020-04-10                      0.0               17.0\n",
       "2020-04-11                      0.0               17.0\n",
       "2020-04-12                      0.0               17.0\n",
       "2020-04-13                      0.0               17.0\n",
       "2020-04-14                      0.0               17.0\n",
       "2020-04-15                      0.0               17.0\n",
       "2020-04-16                      0.0               17.0\n",
       "2020-04-17                      0.0               17.0\n",
       "2020-04-18                      0.0               17.0\n",
       "2020-04-19                      0.0               17.0\n",
       "2020-04-20                      0.0               17.0\n",
       "2020-04-21                      0.0               17.0\n",
       "2020-04-22                      0.0               17.0\n",
       "2020-04-23                      0.0               17.0"
      ]
     },
     "execution_count": 192,
     "metadata": {},
     "output_type": "execute_result"
    }
   ],
   "source": [
    "df_f1.loc['China',:]"
   ]
  },
  {
   "cell_type": "markdown",
   "metadata": {},
   "source": [
    "Looks like this bascially worked.\n",
    "\n",
    "Now, what I could do, is generate the same kind of features, but for types of measures individually."
   ]
  },
  {
   "cell_type": "code",
   "execution_count": null,
   "metadata": {},
   "outputs": [],
   "source": []
  },
  {
   "cell_type": "code",
   "execution_count": null,
   "metadata": {},
   "outputs": [],
   "source": []
  },
  {
   "cell_type": "markdown",
   "metadata": {},
   "source": [
    "Maybe: Some kind of measure of how compliant citizenry is?"
   ]
  },
  {
   "cell_type": "code",
   "execution_count": null,
   "metadata": {},
   "outputs": [],
   "source": []
  }
 ],
 "metadata": {
  "kernelspec": {
   "display_name": "Python 3",
   "language": "python",
   "name": "python3"
  },
  "language_info": {
   "codemirror_mode": {
    "name": "ipython",
    "version": 3
   },
   "file_extension": ".py",
   "mimetype": "text/x-python",
   "name": "python",
   "nbconvert_exporter": "python",
   "pygments_lexer": "ipython3",
   "version": "3.7.5"
  }
 },
 "nbformat": 4,
 "nbformat_minor": 2
}
